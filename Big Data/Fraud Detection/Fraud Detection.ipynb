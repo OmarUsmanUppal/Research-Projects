{
 "cells": [
  {
   "cell_type": "code",
   "execution_count": 2,
   "metadata": {},
   "outputs": [],
   "source": [
    "import findspark\n",
    "findspark.init()\n",
    "from pyspark.sql import SQLContext\n",
    "from pyspark import SparkContext\n",
    "from pyspark.sql.functions import col\n",
    "sc = SparkContext.getOrCreate()\n",
    "sqlContext = SQLContext(sc)"
   ]
  },
  {
   "cell_type": "code",
   "execution_count": 8,
   "metadata": {},
   "outputs": [],
   "source": [
    "#creditcard_data = sqlContext.read.csv('..//creditcardfraud/creditcard',header='true', inferSchema='true')\n",
    "data = sqlContext.read.format(\"csv\") .option(\"header\", \"true\") .option(\"inferSchema\", \"true\") .load(\"creditcardfraud/creditcard.csv\")"
   ]
  },
  {
   "cell_type": "code",
   "execution_count": 9,
   "metadata": {},
   "outputs": [
    {
     "name": "stdout",
     "output_type": "stream",
     "text": [
      "[Row(Time=Decimal('0'), V1=-1.3598071336738, V2=-0.0727811733098497, V3=2.53634673796914, V4=1.37815522427443, V5=-0.338320769942518, V6=0.462387777762292, V7=0.239598554061257, V8=0.0986979012610507, V9=0.363786969611213, V10=0.0907941719789316, V11=-0.551599533260813, V12=-0.617800855762348, V13=-0.991389847235408, V14=-0.311169353699879, V15=1.46817697209427, V16=-0.470400525259478, V17=0.207971241929242, V18=0.0257905801985591, V19=0.403992960255733, V20=0.251412098239705, V21=-0.018306777944153, V22=0.277837575558899, V23=-0.110473910188767, V24=0.0669280749146731, V25=0.128539358273528, V26=-0.189114843888824, V27=0.133558376740387, V28=-0.0210530534538215, Amount=149.62, Class=0), Row(Time=Decimal('0'), V1=1.19185711131486, V2=0.26615071205963, V3=0.16648011335321, V4=0.448154078460911, V5=0.0600176492822243, V6=-0.0823608088155687, V7=-0.0788029833323113, V8=0.0851016549148104, V9=-0.255425128109186, V10=-0.166974414004614, V11=1.61272666105479, V12=1.06523531137287, V13=0.48909501589608, V14=-0.143772296441519, V15=0.635558093258208, V16=0.463917041022171, V17=-0.114804663102346, V18=-0.183361270123994, V19=-0.145783041325259, V20=-0.0690831352230203, V21=-0.225775248033138, V22=-0.638671952771851, V23=0.101288021253234, V24=-0.339846475529127, V25=0.167170404418143, V26=0.125894532368176, V27=-0.00898309914322813, V28=0.0147241691924927, Amount=2.69, Class=0), Row(Time=Decimal('1'), V1=-1.35835406159823, V2=-1.34016307473609, V3=1.77320934263119, V4=0.379779593034328, V5=-0.503198133318193, V6=1.80049938079263, V7=0.791460956450422, V8=0.247675786588991, V9=-1.51465432260583, V10=0.207642865216696, V11=0.624501459424895, V12=0.066083685268831, V13=0.717292731410831, V14=-0.165945922763554, V15=2.34586494901581, V16=-2.89008319444231, V17=1.10996937869599, V18=-0.121359313195888, V19=-2.26185709530414, V20=0.524979725224404, V21=0.247998153469754, V22=0.771679401917229, V23=0.909412262347719, V24=-0.689280956490685, V25=-0.327641833735251, V26=-0.139096571514147, V27=-0.0553527940384261, V28=-0.0597518405929204, Amount=378.66, Class=0), Row(Time=Decimal('1'), V1=-0.966271711572087, V2=-0.185226008082898, V3=1.79299333957872, V4=-0.863291275036453, V5=-0.0103088796030823, V6=1.24720316752486, V7=0.23760893977178, V8=0.377435874652262, V9=-1.38702406270197, V10=-0.0549519224713749, V11=-0.226487263835401, V12=0.178228225877303, V13=0.507756869957169, V14=-0.28792374549456, V15=-0.631418117709045, V16=-1.0596472454325, V17=-0.684092786345479, V18=1.96577500349538, V19=-1.2326219700892, V20=-0.208037781160366, V21=-0.108300452035545, V22=0.00527359678253453, V23=-0.190320518742841, V24=-1.17557533186321, V25=0.647376034602038, V26=-0.221928844458407, V27=0.0627228487293033, V28=0.0614576285006353, Amount=123.5, Class=0)]\n"
     ]
    }
   ],
   "source": [
    "print(data.take(4))#.foreach(println)"
   ]
  },
  {
   "cell_type": "code",
   "execution_count": 103,
   "metadata": {},
   "outputs": [],
   "source": [
    "train_data_orig , test_data_orig = data.randomSplit([0.8, 0.2])"
   ]
  },
  {
   "cell_type": "code",
   "execution_count": 10,
   "metadata": {},
   "outputs": [
    {
     "name": "stdout",
     "output_type": "stream",
     "text": [
      "root\n",
      " |-- Time: decimal(10,0) (nullable = true)\n",
      " |-- V1: double (nullable = true)\n",
      " |-- V2: double (nullable = true)\n",
      " |-- V3: double (nullable = true)\n",
      " |-- V4: double (nullable = true)\n",
      " |-- V5: double (nullable = true)\n",
      " |-- V6: double (nullable = true)\n",
      " |-- V7: double (nullable = true)\n",
      " |-- V8: double (nullable = true)\n",
      " |-- V9: double (nullable = true)\n",
      " |-- V10: double (nullable = true)\n",
      " |-- V11: double (nullable = true)\n",
      " |-- V12: double (nullable = true)\n",
      " |-- V13: double (nullable = true)\n",
      " |-- V14: double (nullable = true)\n",
      " |-- V15: double (nullable = true)\n",
      " |-- V16: double (nullable = true)\n",
      " |-- V17: double (nullable = true)\n",
      " |-- V18: double (nullable = true)\n",
      " |-- V19: double (nullable = true)\n",
      " |-- V20: double (nullable = true)\n",
      " |-- V21: double (nullable = true)\n",
      " |-- V22: double (nullable = true)\n",
      " |-- V23: double (nullable = true)\n",
      " |-- V24: double (nullable = true)\n",
      " |-- V25: double (nullable = true)\n",
      " |-- V26: double (nullable = true)\n",
      " |-- V27: double (nullable = true)\n",
      " |-- V28: double (nullable = true)\n",
      " |-- Amount: double (nullable = true)\n",
      " |-- Class: integer (nullable = true)\n",
      "\n"
     ]
    }
   ],
   "source": [
    "data.printSchema()"
   ]
  },
  {
   "cell_type": "code",
   "execution_count": 137,
   "metadata": {},
   "outputs": [],
   "source": [
    "from pyspark.mllib.classification import LogisticRegressionWithLBFGS, LogisticRegressionModel,   LogisticRegressionWithSGD\n",
    "from pyspark.mllib.regression import LabeledPoint\n",
    "from time import time"
   ]
  },
  {
   "cell_type": "code",
   "execution_count": 106,
   "metadata": {},
   "outputs": [],
   "source": [
    "def transformedData(input_data):\n",
    "    return input_data.rdd.map(lambda row: LabeledPoint(row[-1], row[:-1]))"
   ]
  },
  {
   "cell_type": "code",
   "execution_count": 107,
   "metadata": {},
   "outputs": [],
   "source": [
    "#transformed_data = transformedData(data)"
   ]
  },
  {
   "cell_type": "code",
   "execution_count": 108,
   "metadata": {},
   "outputs": [],
   "source": [
    "#display(transformed_data)#.printSchema()"
   ]
  },
  {
   "cell_type": "code",
   "execution_count": 109,
   "metadata": {},
   "outputs": [],
   "source": [
    "train_data = transformedData(train_data_orig)\n",
    "test_data = transformedData(test_data_orig)"
   ]
  },
  {
   "cell_type": "code",
   "execution_count": 147,
   "metadata": {},
   "outputs": [],
   "source": [
    "modelA = LogisticRegressionWithLBFGS.train(train_data)"
   ]
  },
  {
   "cell_type": "code",
   "execution_count": 148,
   "metadata": {},
   "outputs": [],
   "source": [
    "pred  = test_data.map(lambda p: (p.label, modelA.predict(p.features)))   "
   ]
  },
  {
   "cell_type": "code",
   "execution_count": 149,
   "metadata": {},
   "outputs": [
    {
     "data": {
      "text/plain": [
       "PythonRDD[782] at RDD at PythonRDD.scala:48"
      ]
     },
     "metadata": {},
     "output_type": "display_data"
    }
   ],
   "source": [
    "display(pred)"
   ]
  },
  {
   "cell_type": "code",
   "execution_count": 150,
   "metadata": {},
   "outputs": [
    {
     "data": {
      "text/plain": [
       "PythonRDD[787] at RDD at PythonRDD.scala:48"
      ]
     },
     "metadata": {},
     "output_type": "display_data"
    }
   ],
   "source": [
    "display(pred.groupBy(\"prediction\")) "
   ]
  },
  {
   "cell_type": "code",
   "execution_count": 38,
   "metadata": {},
   "outputs": [
    {
     "data": {
      "text/plain": [
       "[(0.0, 0), (0.0, 1), (0.0, 0), (0.0, 0)]"
      ]
     },
     "execution_count": 38,
     "metadata": {},
     "output_type": "execute_result"
    }
   ],
   "source": [
    "pred.take(4)"
   ]
  },
  {
   "cell_type": "code",
   "execution_count": 65,
   "metadata": {},
   "outputs": [
    {
     "data": {
      "text/plain": [
       "[(1.0, 1), (1.0, 1), (1.0, 1), (1.0, 1), (1.0, 1)]"
      ]
     },
     "execution_count": 65,
     "metadata": {},
     "output_type": "execute_result"
    }
   ],
   "source": [
    "pred.top(5)"
   ]
  },
  {
   "cell_type": "code",
   "execution_count": 151,
   "metadata": {},
   "outputs": [],
   "source": [
    "test_accuracy = pred.filter(lambda vp: vp[0] == vp[1]).count() / float(test2.count())"
   ]
  },
  {
   "cell_type": "code",
   "execution_count": 152,
   "metadata": {},
   "outputs": [],
   "source": [
    "tp = pred.filter(lambda vp: vp[0] == 1.0 and vp[1] ==1).count()\n",
    "fp = pred.filter(lambda vp: vp[0] == 0.0 and vp[1] ==1).count()\n",
    "tn = pred.filter(lambda vp: vp[0] == 0.0 and vp[1] ==0).count()\n",
    "fn = pred.filter(lambda vp: vp[0] == 1.0 and vp[1] ==0).count()"
   ]
  },
  {
   "cell_type": "code",
   "execution_count": 153,
   "metadata": {},
   "outputs": [
    {
     "name": "stdout",
     "output_type": "stream",
     "text": [
      "0.998771002686237\n",
      "63\n",
      "33\n",
      "56824\n",
      "37\n",
      "56957\n"
     ]
    }
   ],
   "source": [
    "print(test_accuracy)\n",
    "print(tp)\n",
    "print(fp)\n",
    "print(tn)\n",
    "print(fn)\n",
    "print(tp+fp+tn+fn)"
   ]
  },
  {
   "cell_type": "code",
   "execution_count": 154,
   "metadata": {},
   "outputs": [
    {
     "name": "stdout",
     "output_type": "stream",
     "text": [
      "Precision =  0.65625\n",
      "Recall =  0.63\n",
      "Accuracy =  0.998771002686237\n"
     ]
    }
   ],
   "source": [
    "print(\"Precision = \", float(tp/(tp+fp)))\n",
    "print(\"Recall = \", float(tp/(tp+fn)))\n",
    "print(\"Accuracy = \", float((tp+tn)/(tp+fp+tn+fn)))"
   ]
  },
  {
   "cell_type": "code",
   "execution_count": 155,
   "metadata": {},
   "outputs": [],
   "source": [
    "test = test_data.toDF()\n",
    "test2= test.select(\"label\")"
   ]
  },
  {
   "cell_type": "code",
   "execution_count": 156,
   "metadata": {},
   "outputs": [
    {
     "name": "stdout",
     "output_type": "stream",
     "text": [
      "root\n",
      " |-- label: double (nullable = true)\n",
      "\n"
     ]
    },
    {
     "data": {
      "text/plain": [
       "56957"
      ]
     },
     "execution_count": 156,
     "metadata": {},
     "output_type": "execute_result"
    }
   ],
   "source": [
    "test2.printSchema()\n",
    "test2.take(5)\n",
    "test2.count()\n",
    "pred.count()"
   ]
  },
  {
   "cell_type": "code",
   "execution_count": 157,
   "metadata": {},
   "outputs": [],
   "source": [
    "tt=test.filter((col(\"label\") == 1.0))"
   ]
  },
  {
   "cell_type": "code",
   "execution_count": 158,
   "metadata": {},
   "outputs": [
    {
     "data": {
      "text/plain": [
       "100"
      ]
     },
     "execution_count": 158,
     "metadata": {},
     "output_type": "execute_result"
    }
   ],
   "source": [
    "tt.count()"
   ]
  },
  {
   "cell_type": "code",
   "execution_count": 159,
   "metadata": {},
   "outputs": [],
   "source": [
    "train_data_reduced = train_data_orig .drop('Time').drop('V28').drop('V27').drop('V26').drop('V25').drop('V24').drop('V23') .drop('V22').drop('V20').drop('V15').drop('V13').drop('V8')\n",
    "test_data_reduced = test_data_orig .drop('Time').drop('V28').drop('V27').drop('V26').drop('V25').drop('V24').drop('V23') .drop('V22').drop('V20').drop('V15').drop('V13').drop('V8')"
   ]
  },
  {
   "cell_type": "code",
   "execution_count": 160,
   "metadata": {},
   "outputs": [],
   "source": [
    "train_data_red = transformedData(train_data_reduced)\n",
    "test_data_red = transformedData(test_data_reduced)"
   ]
  },
  {
   "cell_type": "code",
   "execution_count": 161,
   "metadata": {},
   "outputs": [],
   "source": [
    "modelB = LogisticRegressionWithLBFGS.train(train_data_red)\n",
    "pred_red  = test_data_red.map(lambda p: (p.label, modelB.predict(p.features)))   "
   ]
  },
  {
   "cell_type": "code",
   "execution_count": 162,
   "metadata": {},
   "outputs": [
    {
     "data": {
      "text/plain": [
       "0.9977175764172973"
      ]
     },
     "execution_count": 162,
     "metadata": {},
     "output_type": "execute_result"
    }
   ],
   "source": [
    "test_accuracy_red = pred_red.filter(lambda vp: vp[0] == vp[1]).count() / float(test_data_red.count())\n",
    "test_accuracy_red"
   ]
  },
  {
   "cell_type": "code",
   "execution_count": 163,
   "metadata": {},
   "outputs": [],
   "source": [
    "tp_r = pred_red.filter(lambda vp: vp[0] == 1.0 and vp[1] ==1).count()\n",
    "fp_r = pred_red.filter(lambda vp: vp[0] == 0.0 and vp[1] ==1).count()\n",
    "tn_r = pred_red.filter(lambda vp: vp[0] == 0.0 and vp[1] ==0).count()\n",
    "fn_r = pred_red.filter(lambda vp: vp[0] == 1.0 and vp[1] ==0).count()"
   ]
  },
  {
   "cell_type": "code",
   "execution_count": 164,
   "metadata": {},
   "outputs": [
    {
     "name": "stdout",
     "output_type": "stream",
     "text": [
      "0.9977175764172973\n",
      "58\n",
      "88\n",
      "56769\n",
      "42\n",
      "56957\n"
     ]
    }
   ],
   "source": [
    "print(test_accuracy_red)\n",
    "print(tp_r)\n",
    "print(fp_r)\n",
    "print(tn_r)\n",
    "print(fn_r)\n",
    "print(tp_r+fp_r+tn_r+fn_r)"
   ]
  },
  {
   "cell_type": "code",
   "execution_count": 165,
   "metadata": {},
   "outputs": [
    {
     "name": "stdout",
     "output_type": "stream",
     "text": [
      "Precision =  0.3972602739726027\n",
      "Recall =  0.58\n",
      "Accuracy =  0.9977175764172973\n"
     ]
    }
   ],
   "source": [
    "print(\"Precision = \", float(tp_r/(tp_r+fp_r)))\n",
    "print(\"Recall = \", float(tp_r/(tp_r+fn_r)))\n",
    "print(\"Accuracy = \", float((tp_r+tn_r)/(tp_r+fp_r+tn_r+fn_r)))"
   ]
  },
  {
   "cell_type": "code",
   "execution_count": null,
   "metadata": {},
   "outputs": [],
   "source": []
  }
 ],
 "metadata": {
  "kernelspec": {
   "display_name": "Python 3",
   "language": "python",
   "name": "python3"
  },
  "language_info": {
   "codemirror_mode": {
    "name": "ipython",
    "version": 3
   },
   "file_extension": ".py",
   "mimetype": "text/x-python",
   "name": "python",
   "nbconvert_exporter": "python",
   "pygments_lexer": "ipython3",
   "version": "3.5.2"
  }
 },
 "nbformat": 4,
 "nbformat_minor": 2
}
