{
 "cells": [
  {
   "cell_type": "code",
   "execution_count": 32,
   "metadata": {
    "collapsed": false
   },
   "outputs": [],
   "source": [
    "import numpy as np\n",
    "import imageio as im\n",
    "import glob, sys, os, random\n",
    "import matplotlib.pyplot as plt"
   ]
  },
  {
   "cell_type": "markdown",
   "metadata": {},
   "source": [
    "### Get the list of image filenames and their labels\n",
    "This is the starting point.\n"
   ]
  },
  {
   "cell_type": "code",
   "execution_count": 33,
   "metadata": {
    "collapsed": true
   },
   "outputs": [],
   "source": [
    "def get_fileslist_with_labels(main_folder, number_of_images):\n",
    "    # Make a list of lists of files for each label\n",
    "    filelists = []\n",
    "    for label in range(0,10):\n",
    "        filelist = []\n",
    "        filelists.append(filelist);\n",
    "        dir_name = os.path.join(main_folder, chr(ord('A') + label))\n",
    "        for file in os.listdir(dir_name):\n",
    "            if (file.endswith('.png')):\n",
    "                fullname = os.path.join(dir_name, file)\n",
    "#                 print(\"filename\",fullname)\n",
    "                if (os.path.getsize(fullname) > 0):\n",
    "                    filelist.append(fullname)\n",
    "                else:\n",
    "                    print('file ' + fullname + ' is empty')\n",
    "        # sort each list of files so they start off in the same order\n",
    "        # regardless of how the order the OS returns them in\n",
    "        filelist.sort()\n",
    "\n",
    "    # Take the specified number of items for each label and\n",
    "    # build them into an array of (label, filename) pairs\n",
    "    # Since we seeded the RNG, we should get the same sample each run\n",
    "#     print(len(filelists))\n",
    "    labelsAndFiles = []\n",
    "    for label in range(0,10):\n",
    "        filelist = random.sample(filelists[label], number_of_images)\n",
    "        for filename in filelist:\n",
    "            labelsAndFiles.append((label, filename))\n",
    "\n",
    "    return labelsAndFiles"
   ]
  },
  {
   "cell_type": "code",
   "execution_count": 34,
   "metadata": {
    "collapsed": false
   },
   "outputs": [
    {
     "name": "stdout",
     "output_type": "stream",
     "text": [
      "file notMNIST_small\\A\\RGVtb2NyYXRpY2FCb2xkT2xkc3R5bGUgQm9sZC50dGY=.png is empty\n",
      "file notMNIST_small\\F\\Q3Jvc3NvdmVyIEJvbGRPYmxpcXVlLnR0Zg==.png is empty\n",
      "10100\n"
     ]
    }
   ],
   "source": [
    "labelsAndFiles_small = get_fileslist_with_labels(\"notMNIST_small\", 1010)\n",
    "print(len(labelsAndFiles_small))"
   ]
  },
  {
   "cell_type": "code",
   "execution_count": 39,
   "metadata": {
    "collapsed": false
   },
   "outputs": [
    {
     "name": "stdout",
     "output_type": "stream",
     "text": [
      "file notMNIST_large\\A\\SG90IE11c3RhcmQgQlROIFBvc3Rlci50dGY=.png is empty\n",
      "file notMNIST_large\\A\\Um9tYW5hIEJvbGQucGZi.png is empty\n",
      "file notMNIST_large\\B\\TmlraXNFRi1TZW1pQm9sZEl0YWxpYy5vdGY=.png is empty\n",
      "file notMNIST_large\\D\\VHJhbnNpdCBCb2xkLnR0Zg==.png is empty\n"
     ]
    }
   ],
   "source": [
    "labelsAndFiles_large = get_fileslist_with_labels(\"notMNIST_large\", 20000)\n",
    "# print(len(labelsAndFiles_large))"
   ]
  },
  {
   "cell_type": "markdown",
   "metadata": {},
   "source": [
    "#### Get the data of images and labels from the filenames returned in the last step\n",
    "return_img_lab_arrays will split the labels and filenames and will return the results of labels and image data seperately."
   ]
  },
  {
   "cell_type": "code",
   "execution_count": 35,
   "metadata": {
    "collapsed": true
   },
   "outputs": [],
   "source": [
    "def return_img_lab_arrays(labelsAndFiles):\n",
    "\n",
    "    images = []\n",
    "    labels = []\n",
    "    for i in range(0, len(labelsAndFiles)):\n",
    "        # display progress, since this can take a while\n",
    "        if (i % 100 == 0):\n",
    "            sys.stdout.write(\"\\r%d%% complete\" % ((i * 100)/len(labelsAndFiles)))\n",
    "            sys.stdout.flush()\n",
    "        filename = labelsAndFiles[i][1]\n",
    "#         print(\"filename\",filename)\n",
    "        try:\n",
    "            image = im.imread(filename)\n",
    "            images.append(image)\n",
    "            labels.append(labelsAndFiles[i][0])\n",
    "        except:\n",
    "            # If this happens we won't have the requested number\n",
    "            print(\"\\nCan't read image file \" + filename)\n",
    "    count = len(images)\n",
    "#     print(\"count of images abd labels\",count,len(images))\n",
    "#     print(\"number of files\",len(labelsAndFiles))\n",
    "    imagedata = np.zeros((count,28,28), dtype=np.uint8)\n",
    "    labeldata = np.zeros(count, dtype=np.uint8)\n",
    "\n",
    "    for i in range(len(labelsAndFiles)):\n",
    "#         print(i)\n",
    "        imagedata[i] = images[i]\n",
    "        labeldata[i]= labels[i]\n",
    "    print(\"\\n\")\n",
    "    return imagedata, labeldata\n",
    "#     return \"s\",\"s\""
   ]
  },
  {
   "cell_type": "code",
   "execution_count": 36,
   "metadata": {
    "collapsed": false
   },
   "outputs": [
    {
     "name": "stdout",
     "output_type": "stream",
     "text": [
      "99% complete\n",
      "\n"
     ]
    }
   ],
   "source": [
    "random.shuffle(labelsAndFiles_small)\n",
    "imagedata_small, labeldata_small = return_img_lab_arrays(labelsAndFiles_small)"
   ]
  },
  {
   "cell_type": "code",
   "execution_count": 37,
   "metadata": {
    "collapsed": false
   },
   "outputs": [
    {
     "name": "stdout",
     "output_type": "stream",
     "text": [
      "10100\n"
     ]
    }
   ],
   "source": [
    "print(len(imagedata_small))"
   ]
  },
  {
   "cell_type": "code",
   "execution_count": 38,
   "metadata": {
    "collapsed": false
   },
   "outputs": [
    {
     "name": "stdout",
     "output_type": "stream",
     "text": [
      "10100\n",
      "2\n"
     ]
    },
    {
     "data": {
      "image/png": "[encoded data removed]",
      "text/plain": [
       "<Figure size 432x288 with 1 Axes>"
      ]
     },
     "metadata": {},
     "output_type": "display_data"
    }
   ],
   "source": [
    "print(len(labelsAndFiles_small))\n",
    "print(labeldata_small[0])\n",
    "labelsAndFiles_small[0]\n",
    "plt.imshow(imagedata_small[0])\n",
    "plt.show()"
   ]
  },
  {
   "cell_type": "code",
   "execution_count": 41,
   "metadata": {
    "collapsed": false
   },
   "outputs": [
    {
     "name": "stdout",
     "output_type": "stream",
     "text": [
      "99% complete\n",
      "\n"
     ]
    }
   ],
   "source": [
    "random.shuffle(labelsAndFiles_large)\n",
    "imagedata_large, labeldata_large = return_img_lab_arrays(labelsAndFiles_large)"
   ]
  },
  {
   "cell_type": "markdown",
   "metadata": {},
   "source": [
    "### Check Files and Labels"
   ]
  },
  {
   "cell_type": "code",
   "execution_count": 42,
   "metadata": {
    "collapsed": false
   },
   "outputs": [
    {
     "name": "stdout",
     "output_type": "stream",
     "text": [
      "200000\n"
     ]
    },
    {
     "data": {
      "text/plain": [
       "(0, 'notMNIST_large\\\\A\\\\S25vY2tvdXQtSFRGNjgtRnVsbEZlYXRoZXJ3dC5vdGY=.png')"
      ]
     },
     "execution_count": 42,
     "metadata": {},
     "output_type": "execute_result"
    }
   ],
   "source": [
    "print(len(labelsAndFiles_large))\n",
    "# print(labeldata_large[0])\n",
    "labelsAndFiles_large[0]"
   ]
  },
  {
   "cell_type": "code",
   "execution_count": 43,
   "metadata": {
    "collapsed": false
   },
   "outputs": [
    {
     "name": "stdout",
     "output_type": "stream",
     "text": [
      "200000\n",
      "6\n"
     ]
    },
    {
     "data": {
      "image/png": "[encoded data removed]",
      "text/plain": [
       "<Figure size 432x288 with 1 Axes>"
      ]
     },
     "metadata": {},
     "output_type": "display_data"
    }
   ],
   "source": [
    "print(len(labelsAndFiles_large))\n",
    "print(labeldata_large[100])\n",
    "labelsAndFiles_large[100]\n",
    "plt.imshow(imagedata_large[100])\n",
    "plt.show()"
   ]
  },
  {
   "cell_type": "markdown",
   "metadata": {},
   "source": [
    "#### makefile_labeldata function will create the files that would contain the labels. \n",
    "It would be called twice. One for notMNIST_small and one for notMNIST_large"
   ]
  },
  {
   "cell_type": "code",
   "execution_count": 143,
   "metadata": {
    "collapsed": true
   },
   "outputs": [],
   "source": [
    "def makefile_labeldata(labeldata, outputfile):\n",
    "    header = np.array([0x0801, len(labeldata)], dtype='>i4')\n",
    "    with open(outputfile, \"wb\") as f:\n",
    "        f.write(header.tobytes())\n",
    "        f.write(labeldata.tobytes())"
   ]
  },
  {
   "cell_type": "markdown",
   "metadata": {},
   "source": [
    "### makefile_imagedata function will create the files that would contain the images. \n",
    "It would be called twice. One for notMNIST_small and one for notMNIST_large"
   ]
  },
  {
   "cell_type": "code",
   "execution_count": 45,
   "metadata": {
    "collapsed": true
   },
   "outputs": [],
   "source": [
    "def makefile_imagedata(imagedata, outputfile):\n",
    "    header = np.array([0x0803, len(imagedata), 28, 28], dtype='>i4')\n",
    "    with open(outputfile, \"wb\") as f:\n",
    "        f.write(header.tobytes())\n",
    "        f.write(imagedata.tobytes())"
   ]
  },
  {
   "cell_type": "code",
   "execution_count": 47,
   "metadata": {
    "collapsed": false
   },
   "outputs": [],
   "source": [
    "makefile_labeldata(labeldata_small, \"data/t10k-labels-idx1-ubyte\")\n",
    "makefile_imagedata(imagedata_small, \"data/t10k-images-idx3-ubyte\")\n",
    "#python convert_to_mnist_format.py notMNIST_small 1000 data/t10k-labels-idx1-ubyte data/t10k-images-idx3-ubyte"
   ]
  },
  {
   "cell_type": "code",
   "execution_count": 48,
   "metadata": {
    "collapsed": true
   },
   "outputs": [],
   "source": [
    "makefile_labeldata(labeldata_large, \"data/train-labels-idx1-ubyte\")\n",
    "makefile_imagedata(imagedata_large, \"data//train-images-idx3-ubyte\")\n",
    "## $ python convert_to_mnist_format.py notMNIST_large 6000 data/train-labels-idx1-ubyte data/train-images-idx3-ubyte\n"
   ]
  },
  {
   "cell_type": "code",
   "execution_count": 49,
   "metadata": {
    "collapsed": false
   },
   "outputs": [
    {
     "data": {
      "text/plain": [
       "['t10k-images-idx3-ubyte',\n",
       " 't10k-labels-idx1-ubyte',\n",
       " 'train-images-idx3-ubyte',\n",
       " 'train-labels-idx1-ubyte']"
      ]
     },
     "execution_count": 49,
     "metadata": {},
     "output_type": "execute_result"
    }
   ],
   "source": [
    "list_files=os.listdir(\"data\")\n",
    "list_files"
   ]
  },
  {
   "cell_type": "markdown",
   "metadata": {},
   "source": [
    "## ZIP THE FILES\n",
    "### Files name match the name of MNIST DATASET"
   ]
  },
  {
   "cell_type": "code",
   "execution_count": 50,
   "metadata": {
    "collapsed": true
   },
   "outputs": [],
   "source": [
    "import gzip\n",
    "import shutil\n",
    "with open('data/t10k-labels-idx1-ubyte', 'rb') as f_in:\n",
    "    with gzip.open('data/t10k-labels-idx1-ubyte.gz', 'wb') as f_out:\n",
    "        shutil.copyfileobj(f_in, f_out)"
   ]
  },
  {
   "cell_type": "code",
   "execution_count": 51,
   "metadata": {
    "collapsed": false
   },
   "outputs": [],
   "source": [
    "with open('data/t10k-images-idx3-ubyte', 'rb') as f_in:\n",
    "    with gzip.open('data/t10k-images-idx3-ubyte.gz', 'wb') as f_out:\n",
    "        shutil.copyfileobj(f_in, f_out)"
   ]
  },
  {
   "cell_type": "code",
   "execution_count": 52,
   "metadata": {
    "collapsed": true
   },
   "outputs": [],
   "source": [
    "with open('data/train-labels-idx1-ubyte', 'rb') as f_in:\n",
    "    with gzip.open('data/train-labels-idx1-ubyte.gz', 'wb') as f_out:\n",
    "        shutil.copyfileobj(f_in, f_out)"
   ]
  },
  {
   "cell_type": "code",
   "execution_count": 53,
   "metadata": {
    "collapsed": true
   },
   "outputs": [],
   "source": [
    "with open('data/train-images-idx3-ubyte', 'rb') as f_in:\n",
    "    with gzip.open('data/train-images-idx3-ubyte.gz', 'wb') as f_out:\n",
    "        shutil.copyfileobj(f_in, f_out)"
   ]
  }
 ],
 "metadata": {
  "anaconda-cloud": {},
  "kernelspec": {
   "display_name": "Python [conda env:tensorflow]",
   "language": "python",
   "name": "conda-env-tensorflow-py"
  },
  "language_info": {
   "codemirror_mode": {
    "name": "ipython",
    "version": 3
   },
   "file_extension": ".py",
   "mimetype": "text/x-python",
   "name": "python",
   "nbconvert_exporter": "python",
   "pygments_lexer": "ipython3",
   "version": "3.5.4"
  }
 },
 "nbformat": 4,
 "nbformat_minor": 1
}
