{
 "cells": [
  {
   "cell_type": "code",
   "execution_count": 58,
   "metadata": {
    "collapsed": false
   },
   "outputs": [],
   "source": [
    "import numpy as np\n",
    "import imageio as im\n",
    "import glob, sys, os, random\n",
    "import matplotlib.pyplot as plt"
   ]
  },
  {
   "cell_type": "markdown",
   "metadata": {},
   "source": [
    "## READ the Data\n",
    "- Normalized\n",
    "- One_hot encoded\n",
    "- Flat\n",
    "- Split in Validation, Training and Testing DataSet"
   ]
  },
  {
   "cell_type": "code",
   "execution_count": 88,
   "metadata": {
    "collapsed": false
   },
   "outputs": [
    {
     "name": "stdout",
     "output_type": "stream",
     "text": [
      "Extracting data/train-images-idx3-ubyte.gz\n",
      "Extracting data/train-labels-idx1-ubyte.gz\n",
      "Extracting data/t10k-images-idx3-ubyte.gz\n",
      "Extracting data/t10k-labels-idx1-ubyte.gz\n"
     ]
    }
   ],
   "source": [
    "# import MNIST data\n",
    "import tensorflow as tf\n",
    "from tensorflow.examples.tutorials.mnist import input_data\n",
    "notMNIST = input_data.read_data_sets(\"data/\", one_hot=True)"
   ]
  },
  {
   "cell_type": "markdown",
   "metadata": {},
   "source": [
    "## PRINT OUT SHAPES\n",
    "\n",
    "In the preprocessing phase 20,000 samples from each \"Alphabet\" class were selected and were converted to MNIST FORMAT.\n",
    "Using the builtin routine of MNIST we can see it has already made validation dataset of 5000 samples.\n",
    "#### NOTE: Here the dataset is notMNIST"
   ]
  },
  {
   "cell_type": "code",
   "execution_count": 89,
   "metadata": {
    "collapsed": false
   },
   "outputs": [
    {
     "name": "stdout",
     "output_type": "stream",
     "text": [
      "Shape of train dataset (195000, 784)\n",
      "Shape of test dataset (10100, 784)\n",
      "Shape of validation dataset (5000, 784)\n",
      "Shape of validation dataset (5000, 784)\n",
      "Shape of train labels (195000, 10)\n",
      "Shape of test labels (10100, 10)\n"
     ]
    }
   ],
   "source": [
    "print(\"Shape of train dataset\", notMNIST.train.images.shape)\n",
    "print(\"Shape of test dataset\", notMNIST.test.images.shape)\n",
    "print(\"Shape of validation dataset\", notMNIST.validation.images.shape)\n",
    "print(\"Shape of validation dataset\", notMNIST.validation.images.shape)\n",
    "print(\"Shape of train labels\", notMNIST.train.labels.shape)\n",
    "print(\"Shape of test labels\", notMNIST.test.labels.shape)"
   ]
  },
  {
   "cell_type": "markdown",
   "metadata": {},
   "source": [
    "## Check if dataset is correctly read by matching images and labels"
   ]
  },
  {
   "cell_type": "code",
   "execution_count": 90,
   "metadata": {
    "collapsed": false
   },
   "outputs": [
    {
     "data": {
      "image/png": "[encoded data removed]",
      "text/plain": [
       "<Figure size 432x288 with 1 Axes>"
      ]
     },
     "metadata": {},
     "output_type": "display_data"
    },
    {
     "name": "stdout",
     "output_type": "stream",
     "text": [
      "[[0.         0.         0.         0.         0.         0.\n",
      "  0.         0.         0.         0.00784314 0.         0.6666667\n",
      "  1.         0.98823535 0.9843138  1.         0.59607846 0.\n",
      "  0.01176471 0.         0.         0.         0.         0.\n",
      "  0.         0.         0.         0.        ]\n",
      " [0.         0.         0.         0.         0.         0.\n",
      "  0.         0.         0.00784314 0.         0.1254902  0.95294124\n",
      "  0.9960785  0.9960785  0.9960785  1.         0.92549026 0.08235294\n",
      "  0.         0.00392157 0.         0.         0.         0.\n",
      "  0.         0.         0.         0.        ]\n",
      " [0.         0.         0.         0.         0.         0.\n",
      "  0.         0.         0.01568628 0.         0.49803925 1.\n",
      "  0.9843138  1.         1.         0.98823535 1.         0.43137258\n",
      "  0.         0.01568628 0.         0.         0.         0.\n",
      "  0.         0.         0.         0.        ]\n",
      " [0.         0.         0.         0.         0.         0.\n",
      "  0.         0.00392157 0.00392157 0.03921569 0.86274517 1.\n",
      "  0.9921569  1.         1.         0.9921569  1.         0.81568635\n",
      "  0.01568628 0.00392157 0.         0.         0.         0.\n",
      "  0.         0.         0.         0.        ]\n",
      " [0.         0.         0.         0.         0.         0.\n",
      "  0.         0.01568628 0.         0.32156864 1.         0.9921569\n",
      "  1.         1.         1.         1.         0.9921569  1.\n",
      "  0.2627451  0.00392157 0.01176471 0.         0.         0.\n",
      "  0.         0.         0.         0.        ]\n",
      " [0.         0.         0.         0.         0.         0.\n",
      "  0.         0.00784314 0.         0.72156864 1.         0.98823535\n",
      "  1.         1.         1.         1.         0.9843138  1.\n",
      "  0.6666667  0.         0.00784314 0.         0.         0.\n",
      "  0.         0.         0.         0.        ]\n",
      " [0.         0.         0.         0.         0.         0.\n",
      "  0.01176471 0.         0.17254902 0.9803922  0.9960785  1.\n",
      "  1.         0.9960785  0.9960785  1.         0.9960785  1.\n",
      "  0.96470594 0.12941177 0.         0.00784314 0.         0.\n",
      "  0.         0.         0.         0.        ]\n",
      " [0.         0.         0.         0.         0.         0.\n",
      "  0.01176471 0.         0.5568628  1.         0.9843138  1.\n",
      "  1.         1.         1.         1.         1.         0.9843138\n",
      "  1.         0.5019608  0.         0.01176471 0.         0.\n",
      "  0.         0.         0.         0.        ]\n",
      " [0.         0.         0.         0.         0.         0.00392157\n",
      "  0.00392157 0.0627451  0.90196085 1.         0.9960785  0.9960785\n",
      "  0.9960785  0.8431373  0.9333334  1.         1.         0.9921569\n",
      "  1.         0.8705883  0.03529412 0.         0.00392157 0.\n",
      "  0.         0.         0.         0.        ]\n",
      " [0.         0.         0.         0.         0.         0.01568628\n",
      "  0.         0.3803922  1.         0.98823535 1.         0.98823535\n",
      "  1.         0.3019608  0.6666667  0.9960785  0.98823535 1.\n",
      "  0.9921569  1.         0.33333334 0.         0.01176471 0.\n",
      "  0.         0.         0.         0.        ]\n",
      " [0.         0.         0.         0.         0.         0.00784314\n",
      "  0.00392157 0.77647066 0.9960785  0.98823535 0.9921569  1.\n",
      "  0.9176471  0.01176471 0.35686275 1.         0.98823535 1.\n",
      "  0.98823535 0.9960785  0.73333335 0.         0.00784314 0.\n",
      "  0.         0.         0.         0.        ]\n",
      " [0.         0.         0.         0.         0.01176471 0.\n",
      "  0.21960786 0.9921569  0.9921569  1.         0.9843138  1.\n",
      "  0.59607846 0.         0.08627451 0.9215687  1.         0.9960785\n",
      "  1.         0.9960785  0.9843138  0.18431373 0.         0.00784314\n",
      "  0.         0.         0.         0.        ]\n",
      " [0.         0.         0.         0.         0.01176471 0.\n",
      "  0.6117647  1.         0.9843138  1.         0.9960785  0.9960785\n",
      "  0.2392157  0.         0.         0.61960787 1.         0.9843138\n",
      "  1.         0.9843138  1.         0.57254905 0.         0.01176471\n",
      "  0.         0.         0.         0.        ]\n",
      " [0.         0.         0.         0.00784314 0.         0.09411766\n",
      "  0.93725497 1.         0.9960785  0.9921569  1.         0.82745105\n",
      "  0.01960784 0.00784314 0.         0.25882354 1.         0.9921569\n",
      "  1.         0.9960785  1.         0.9176471  0.07058824 0.\n",
      "  0.00392157 0.         0.         0.        ]\n",
      " [0.         0.         0.         0.01568628 0.         0.43921572\n",
      "  1.         0.98823535 1.         0.98823535 1.         0.48627454\n",
      "  0.         0.01960784 0.00784314 0.02745098 0.8431373  1.\n",
      "  0.9921569  1.         0.98823535 1.         0.4039216  0.\n",
      "  0.01568628 0.         0.         0.        ]\n",
      " [0.         0.         0.00392157 0.00392157 0.01568628 0.8235295\n",
      "  1.         0.98823535 0.9960785  0.9960785  0.9725491  0.14117648\n",
      "  0.         0.         0.00392157 0.         0.49411768 1.\n",
      "  0.9843138  1.         0.98823535 0.9960785  0.7960785  0.00784314\n",
      "  0.00392157 0.         0.         0.        ]\n",
      " [0.         0.         0.01176471 0.         0.27058825 1.\n",
      "  0.9921569  1.         0.98823535 1.         0.7372549  0.03137255\n",
      "  0.03921569 0.03529412 0.03921569 0.03529412 0.19215688 0.97647065\n",
      "  1.         0.9960785  1.         0.9921569  0.9960785  0.24313727\n",
      "  0.         0.01176471 0.         0.        ]\n",
      " [0.         0.         0.01176471 0.         0.67058825 1.\n",
      "  0.98823535 1.         1.         1.         0.95294124 0.91372555\n",
      "  0.91372555 0.91372555 0.91372555 0.91372555 0.909804   0.98823535\n",
      "  1.         1.         1.         0.9843138  1.         0.6431373\n",
      "  0.         0.01176471 0.         0.        ]\n",
      " [0.         0.00784314 0.         0.12941177 0.9607844  0.9960785\n",
      "  0.9960785  1.         1.         1.         1.         1.\n",
      "  1.         1.         1.         1.         1.         1.\n",
      "  1.         1.         1.         0.9960785  1.         0.95294124\n",
      "  0.1137255  0.         0.00784314 0.        ]\n",
      " [0.         0.01176471 0.         0.5019608  1.         0.9843138\n",
      "  1.         1.         1.         1.         0.9960785  0.9960785\n",
      "  0.9960785  0.9960785  0.9960785  0.9960785  0.9960785  1.\n",
      "  1.         1.         1.         1.         0.98823535 1.\n",
      "  0.47450984 0.         0.01176471 0.        ]\n",
      " [0.00392157 0.00392157 0.03529412 0.86666673 1.         0.9921569\n",
      "  1.         1.         0.9921569  0.9843138  0.9843138  0.9843138\n",
      "  0.9843138  0.9843138  0.9843138  0.9843138  0.9843138  0.9843138\n",
      "  0.9843138  0.9960785  1.         1.         0.9921569  1.\n",
      "  0.85098046 0.02745098 0.00392157 0.00392157]\n",
      " [0.01568628 0.         0.32941177 1.         0.9921569  1.\n",
      "  1.         1.         1.         1.         1.         1.\n",
      "  1.         1.         1.         1.         1.         1.\n",
      "  1.         1.         1.         1.         1.         0.9921569\n",
      "  1.         0.30980393 0.         0.01568628]\n",
      " [0.00784314 0.         0.7294118  1.         0.98823535 1.\n",
      "  0.98823535 1.         0.70980394 0.31764707 0.32941177 0.31764707\n",
      "  0.31764707 0.31764707 0.31764707 0.31764707 0.31764707 0.32156864\n",
      "  0.3254902  0.854902   0.9960785  0.9921569  1.         0.98823535\n",
      "  1.         0.7176471  0.         0.00784314]\n",
      " [0.         0.17254902 0.9843138  0.9960785  0.9960785  1.\n",
      "  0.9921569  1.         0.23529413 0.         0.         0.\n",
      "  0.         0.         0.         0.         0.         0.\n",
      "  0.         0.46274513 1.         0.98823535 1.         0.9960785\n",
      "  0.9960785  0.9803922  0.16078432 0.        ]\n",
      " [0.         0.54901963 1.         0.9843138  1.         0.9921569\n",
      "  1.         0.8196079  0.01960784 0.01568628 0.01568628 0.01568628\n",
      "  0.01568628 0.01568628 0.01568628 0.01568628 0.01568628 0.02352941\n",
      "  0.01176471 0.1137255  0.9490197  1.         0.9960785  1.\n",
      "  0.9843138  1.         0.5411765  0.        ]\n",
      " [0.06666667 0.89019614 1.         0.9921569  1.         0.98823535\n",
      "  1.         0.454902   0.         0.01568628 0.         0.\n",
      "  0.         0.         0.         0.         0.         0.\n",
      "  0.01176471 0.         0.654902   1.         0.9843138  1.\n",
      "  0.9921569  1.         0.8862746  0.05882353]\n",
      " [0.41960788 1.         0.9921569  1.         0.9960785  1.\n",
      "  0.9490197  0.1137255  0.         0.00784314 0.         0.\n",
      "  0.         0.         0.         0.         0.         0.\n",
      "  0.01176471 0.00392157 0.25490198 1.         0.9921569  1.\n",
      "  1.         0.9921569  1.         0.41176474]\n",
      " [0.8196079  0.9960785  0.9921569  1.         0.98823535 1.\n",
      "  0.67058825 0.         0.00784314 0.         0.         0.\n",
      "  0.         0.         0.         0.         0.         0.\n",
      "  0.00392157 0.00392157 0.01960784 0.8196079  1.         0.9921569\n",
      "  1.         0.9921569  0.9960785  0.81568635]]\n"
     ]
    }
   ],
   "source": [
    "sample_img = notMNIST.train.images[5].reshape(28, 28)\n",
    "plt.imshow(sample_img).set_cmap('Greys')\n",
    "plt.show()\n",
    "print(sample_img)"
   ]
  },
  {
   "cell_type": "code",
   "execution_count": 91,
   "metadata": {
    "collapsed": false
   },
   "outputs": [
    {
     "data": {
      "text/plain": [
       "array([1., 0., 0., 0., 0., 0., 0., 0., 0., 0.])"
      ]
     },
     "execution_count": 91,
     "metadata": {},
     "output_type": "execute_result"
    }
   ],
   "source": [
    "sample_label = notMNIST.train.labels[5]\n",
    "sample_label"
   ]
  },
  {
   "cell_type": "code",
   "execution_count": 92,
   "metadata": {
    "collapsed": false
   },
   "outputs": [
    {
     "data": {
      "image/png": "[encoded data removed]",
      "text/plain": [
       "<Figure size 432x288 with 1 Axes>"
      ]
     },
     "metadata": {},
     "output_type": "display_data"
    },
    {
     "name": "stdout",
     "output_type": "stream",
     "text": [
      "[[0.         0.         0.         0.         0.         0.\n",
      "  0.         0.         0.         0.         0.         0.\n",
      "  0.         0.         0.         0.         0.         0.01960784\n",
      "  0.         0.3921569  1.         0.9803922  1.         1.\n",
      "  1.         1.         1.         1.        ]\n",
      " [0.         0.         0.         0.         0.         0.\n",
      "  0.         0.         0.         0.         0.         0.\n",
      "  0.         0.         0.         0.         0.         0.01960784\n",
      "  0.         0.3921569  1.         0.9803922  1.         1.\n",
      "  1.         1.         1.         1.        ]\n",
      " [0.         0.         0.         0.         0.         0.\n",
      "  0.         0.         0.         0.         0.         0.\n",
      "  0.         0.         0.         0.         0.         0.01960784\n",
      "  0.         0.3921569  1.         0.9803922  1.         1.\n",
      "  1.         1.         1.         1.        ]\n",
      " [0.         0.         0.         0.         0.         0.\n",
      "  0.         0.         0.         0.         0.         0.\n",
      "  0.         0.         0.         0.         0.         0.01960784\n",
      "  0.         0.3921569  1.         0.9803922  1.         1.\n",
      "  1.         1.         1.         1.        ]\n",
      " [0.         0.         0.         0.         0.         0.\n",
      "  0.         0.         0.         0.         0.         0.\n",
      "  0.         0.         0.         0.         0.         0.01960784\n",
      "  0.         0.3921569  1.         0.9803922  1.         1.\n",
      "  1.         1.         1.         1.        ]\n",
      " [0.         0.         0.         0.         0.         0.\n",
      "  0.         0.         0.         0.         0.         0.\n",
      "  0.         0.         0.         0.         0.         0.01960784\n",
      "  0.         0.3921569  1.         0.9803922  1.         1.\n",
      "  1.         1.         1.         1.        ]\n",
      " [0.         0.         0.         0.         0.         0.\n",
      "  0.         0.         0.         0.         0.         0.\n",
      "  0.         0.         0.         0.         0.         0.01960784\n",
      "  0.         0.3921569  1.         0.9803922  1.         1.\n",
      "  1.         1.         1.         1.        ]\n",
      " [0.         0.         0.         0.         0.         0.\n",
      "  0.         0.         0.         0.         0.         0.\n",
      "  0.         0.         0.         0.         0.         0.01960784\n",
      "  0.         0.3921569  1.         0.9803922  1.         1.\n",
      "  1.         1.         1.         1.        ]\n",
      " [0.         0.         0.         0.         0.         0.\n",
      "  0.         0.         0.         0.         0.         0.\n",
      "  0.         0.         0.         0.         0.         0.01960784\n",
      "  0.         0.3921569  1.         0.9803922  1.         1.\n",
      "  1.         1.         1.         1.        ]\n",
      " [0.         0.         0.         0.         0.         0.\n",
      "  0.         0.         0.         0.         0.         0.\n",
      "  0.         0.         0.         0.         0.         0.01960784\n",
      "  0.         0.3921569  1.         0.9803922  1.         1.\n",
      "  1.         1.         1.         1.        ]\n",
      " [0.         0.         0.         0.         0.         0.\n",
      "  0.         0.         0.         0.         0.         0.\n",
      "  0.         0.         0.         0.         0.         0.01960784\n",
      "  0.         0.3921569  1.         0.9803922  1.         1.\n",
      "  1.         1.         1.         1.        ]\n",
      " [0.         0.         0.         0.         0.         0.\n",
      "  0.         0.         0.         0.         0.         0.\n",
      "  0.         0.         0.         0.         0.         0.01960784\n",
      "  0.         0.3921569  1.         0.9803922  1.         1.\n",
      "  1.         1.         1.         1.        ]\n",
      " [0.         0.         0.         0.         0.         0.\n",
      "  0.         0.         0.         0.         0.         0.\n",
      "  0.         0.         0.         0.         0.         0.01960784\n",
      "  0.         0.3921569  1.         0.9803922  1.         1.\n",
      "  1.         1.         1.         1.        ]\n",
      " [0.         0.         0.         0.         0.         0.\n",
      "  0.         0.         0.         0.         0.         0.\n",
      "  0.         0.         0.         0.         0.         0.01960784\n",
      "  0.         0.3921569  1.         0.9803922  1.         1.\n",
      "  1.         1.         1.         1.        ]\n",
      " [0.         0.         0.         0.         0.         0.\n",
      "  0.         0.         0.         0.         0.         0.\n",
      "  0.         0.         0.         0.         0.         0.01960784\n",
      "  0.         0.3921569  1.         0.9803922  1.         1.\n",
      "  1.         1.         1.         1.        ]\n",
      " [0.         0.00392157 0.00392157 0.00392157 0.00392157 0.00392157\n",
      "  0.00392157 0.00392157 0.         0.         0.         0.\n",
      "  0.         0.         0.         0.         0.         0.01960784\n",
      "  0.         0.3921569  1.         0.9803922  1.         1.\n",
      "  1.         1.         1.         1.        ]\n",
      " [0.00392157 0.         0.         0.         0.         0.\n",
      "  0.         0.         0.         0.         0.         0.\n",
      "  0.         0.         0.         0.         0.         0.01960784\n",
      "  0.         0.3921569  1.         0.9803922  1.         1.\n",
      "  1.         1.         1.         1.        ]\n",
      " [0.         0.00784314 0.01568628 0.02352941 0.03529412 0.04313726\n",
      "  0.04705883 0.07450981 0.03529412 0.         0.         0.\n",
      "  0.         0.         0.         0.         0.         0.01960784\n",
      "  0.         0.3921569  1.         0.9803922  1.         1.\n",
      "  1.         1.         1.         1.        ]\n",
      " [0.43137258 0.85098046 0.8196079  0.83921576 0.854902   0.86666673\n",
      "  0.8745099  0.92549026 0.2901961  0.         0.01568628 0.\n",
      "  0.         0.         0.         0.         0.         0.01960784\n",
      "  0.         0.3921569  1.         0.9803922  1.         1.\n",
      "  1.         1.         1.         1.        ]\n",
      " [0.8313726  1.         0.9960785  1.         1.         0.9921569\n",
      "  1.         0.89019614 0.14117648 0.         0.00784314 0.\n",
      "  0.         0.         0.         0.         0.         0.01568628\n",
      "  0.         0.41960788 1.         0.9803922  1.         1.\n",
      "  1.         1.         1.         0.9960785 ]\n",
      " [0.9686275  0.9960785  0.9921569  0.9921569  0.9921569  0.9803922\n",
      "  1.         0.7960785  0.03921569 0.         0.00392157 0.\n",
      "  0.         0.         0.         0.         0.         0.01176471\n",
      "  0.         0.49411768 1.         0.9803922  1.         1.\n",
      "  1.         1.         1.         0.9294118 ]\n",
      " [0.9294118  1.         1.         1.         1.         0.9921569\n",
      "  1.         0.8470589  0.08627451 0.         0.01568628 0.00392157\n",
      "  0.00392157 0.         0.         0.00392157 0.01176471 0.00784314\n",
      "  0.01960784 0.7176471  1.         0.98823535 1.         1.\n",
      "  1.         0.9960785  1.         0.8117648 ]\n",
      " [0.69411767 1.         0.9921569  1.         1.         0.9960785\n",
      "  0.9921569  1.         0.40000004 0.         0.01176471 0.\n",
      "  0.         0.00392157 0.         0.         0.00784314 0.\n",
      "  0.28627452 1.         1.         1.         1.         1.\n",
      "  1.         0.9843138  1.         0.49803925]\n",
      " [0.27058825 0.9921569  0.9921569  0.9921569  1.         1.\n",
      "  1.         1.         0.9686275  0.5294118  0.16078432 0.0509804\n",
      "  0.00392157 0.         0.         0.03137255 0.11764707 0.43921572\n",
      "  0.95294124 1.         0.9960785  1.         1.         1.\n",
      "  0.9843138  1.         0.8980393  0.15294118]\n",
      " [0.         0.46274513 1.         0.9960785  0.9843138  0.9921569\n",
      "  1.         0.9960785  0.9960785  1.         0.9843138  0.8862746\n",
      "  0.8078432  0.78823537 0.7960785  0.854902   0.96470594 1.\n",
      "  1.         0.9960785  1.         1.         0.9921569  0.9843138\n",
      "  1.         1.         0.3529412  0.        ]\n",
      " [0.00784314 0.         0.37254903 0.9294118  1.         0.9960785\n",
      "  0.9960785  0.9921569  0.9843138  0.9803922  0.9960785  1.\n",
      "  1.         1.         1.         1.         1.         0.9803922\n",
      "  0.9843138  0.9921569  0.9921569  1.         0.9960785  1.\n",
      "  0.909804   0.32941177 0.         0.00392157]\n",
      " [0.         0.00784314 0.         0.09411766 0.5058824  0.854902\n",
      "  0.98823535 1.         1.         1.         1.         1.\n",
      "  0.9960785  0.9921569  0.9960785  1.         1.         1.\n",
      "  1.         1.         1.         0.97647065 0.8000001  0.45882356\n",
      "  0.07450981 0.         0.00784314 0.        ]\n",
      " [0.         0.00392157 0.00784314 0.         0.         0.03137255\n",
      "  0.2392157  0.49411768 0.6666667  0.8078432  0.90196085 0.93725497\n",
      "  0.9803922  0.98823535 0.95294124 0.92549026 0.8941177  0.81568635\n",
      "  0.69803923 0.57254905 0.40000004 0.18039216 0.01568628 0.\n",
      "  0.00392157 0.00784314 0.         0.        ]]\n"
     ]
    }
   ],
   "source": [
    "sample_img = notMNIST.validation.images[5].reshape(28, 28)\n",
    "plt.imshow(sample_img).set_cmap('Greys')\n",
    "plt.show()\n",
    "print(sample_img)"
   ]
  },
  {
   "cell_type": "code",
   "execution_count": 93,
   "metadata": {
    "collapsed": false
   },
   "outputs": [
    {
     "data": {
      "text/plain": [
       "array([0., 0., 0., 0., 0., 0., 0., 0., 0., 1.])"
      ]
     },
     "execution_count": 93,
     "metadata": {},
     "output_type": "execute_result"
    }
   ],
   "source": [
    "sample_label = notMNIST.validation.labels[5]\n",
    "sample_label"
   ]
  },
  {
   "cell_type": "markdown",
   "metadata": {},
   "source": [
    "## Setting up the Parameters"
   ]
  },
  {
   "cell_type": "code",
   "execution_count": 94,
   "metadata": {
    "collapsed": true
   },
   "outputs": [],
   "source": [
    "# Hyper Parameters / Display Parameters\n",
    "learning_rate = 0.001\n",
    "training_epochs = 50\n",
    "batch_size = 100\n",
    "display_step = 1\n",
    "# validate_size = int(.10*notMNIST.train.images.shape[0])\n",
    "# train_size=notMNIST.train.images.shape[0]-validate_size\n",
    "\n",
    "# Network Parameters\n",
    "hid_lay_mod = 1024 # 1st layer number of modules\n",
    "input_features = 784 # notMNIST data input (img shape: 28*28)\n",
    "output_classes = 10 # notMNIST total classes (A-J digits)"
   ]
  },
  {
   "cell_type": "code",
   "execution_count": 95,
   "metadata": {
    "collapsed": false
   },
   "outputs": [],
   "source": [
    "# tf Graph input\n",
    "input_images = tf.placeholder(\"float\", [None, input_features])\n",
    "y = tf.placeholder(\"float\", [None, output_classes])\n",
    "\n",
    "\n",
    "# input_features x 1024 module hidden layer weights and biases\n",
    "w_h_layer = tf.Variable(tf.random_normal([input_features, hid_lay_mod]))\n",
    "b_h_layer = tf.Variable(tf.random_normal([hid_lay_mod]))\n",
    "    \n",
    "# 1024 x output_classes output layer weights and biases\n",
    "w_o_layer = tf.Variable(tf.random_normal([hid_lay_mod, output_classes]))\n",
    "b_o_layer = tf.Variable(tf.random_normal([output_classes]))"
   ]
  },
  {
   "cell_type": "markdown",
   "metadata": {},
   "source": [
    "### Construct the Regression Model"
   ]
  },
  {
   "cell_type": "code",
   "execution_count": 96,
   "metadata": {
    "collapsed": true
   },
   "outputs": [],
   "source": [
    "# Create model\n",
    "def logistic_regression_model(input_images, w_h_layer, b_h_layer,w_o_layer,b_o_layer):\n",
    "    # Hidden layer with RELU activation\n",
    "    layer_1 = tf.nn.relu(tf.add(tf.matmul(input_images, w_h_layer), b_h_layer))\n",
    "    \n",
    "    # Output layer with linear activation\n",
    "    output_layer = tf.matmul(layer_1, w_o_layer) + b_o_layer\n",
    "    return output_layer"
   ]
  },
  {
   "cell_type": "code",
   "execution_count": 97,
   "metadata": {
    "collapsed": false
   },
   "outputs": [
    {
     "name": "stdout",
     "output_type": "stream",
     "text": [
      "Tensor(\"add_5:0\", shape=(?, 10), dtype=float32)\n"
     ]
    }
   ],
   "source": [
    "# Construct model\n",
    "prediction = logistic_regression_model(input_images, w_h_layer, b_h_layer,w_o_layer,b_o_layer)\n",
    "print(prediction)"
   ]
  },
  {
   "cell_type": "code",
   "execution_count": 98,
   "metadata": {
    "collapsed": false
   },
   "outputs": [
    {
     "name": "stdout",
     "output_type": "stream",
     "text": [
      "Tensor(\"Mean_203:0\", shape=(), dtype=float32)\n",
      "name: \"GradientDescent_5\"\n",
      "op: \"NoOp\"\n",
      "input: \"^GradientDescent_5/update_Variable_24/ApplyGradientDescent\"\n",
      "input: \"^GradientDescent_5/update_Variable_25/ApplyGradientDescent\"\n",
      "input: \"^GradientDescent_5/update_Variable_26/ApplyGradientDescent\"\n",
      "input: \"^GradientDescent_5/update_Variable_27/ApplyGradientDescent\"\n",
      "\n"
     ]
    }
   ],
   "source": [
    "cost = tf.reduce_mean(tf.nn.softmax_cross_entropy_with_logits_v2(logits=prediction, labels=y))\n",
    "optimizer = tf.train.GradientDescentOptimizer(learning_rate=learning_rate).minimize(cost)\n",
    "print(cost)\n",
    "print(optimizer)"
   ]
  },
  {
   "cell_type": "code",
   "execution_count": 99,
   "metadata": {
    "collapsed": false
   },
   "outputs": [
    {
     "name": "stdout",
     "output_type": "stream",
     "text": [
      "<tf.Variable 'Variable_24:0' shape=(784, 1024) dtype=float32_ref>\n"
     ]
    }
   ],
   "source": [
    "print(w_h_layer)"
   ]
  },
  {
   "cell_type": "code",
   "execution_count": 100,
   "metadata": {
    "collapsed": true
   },
   "outputs": [],
   "source": [
    "# Initializing the variables# Initia \n",
    "init = tf.global_variables_initializer()"
   ]
  },
  {
   "cell_type": "markdown",
   "metadata": {},
   "source": [
    "### Starting the training in the Tensorflow session."
   ]
  },
  {
   "cell_type": "code",
   "execution_count": 101,
   "metadata": {
    "collapsed": false
   },
   "outputs": [
    {
     "name": "stdout",
     "output_type": "stream",
     "text": [
      "Epoch: 0001 cost= 72.631502198\n",
      "Training Accuracy: 0.7228\n",
      "Validation Accuracy: 0.7256\n",
      "Epoch: 0002 cost= 44.259148792\n",
      "Training Accuracy: 0.7481641\n",
      "Validation Accuracy: 0.747\n",
      "Epoch: 0003 cost= 38.153873428\n",
      "Training Accuracy: 0.7578205\n",
      "Validation Accuracy: 0.7562\n",
      "Epoch: 0004 cost= 34.366434499\n",
      "Training Accuracy: 0.7659282\n",
      "Validation Accuracy: 0.7606\n",
      "Epoch: 0005 cost= 31.645204111\n",
      "Training Accuracy: 0.7712051\n",
      "Validation Accuracy: 0.7668\n",
      "Epoch: 0006 cost= 29.529117235\n",
      "Training Accuracy: 0.7756359\n",
      "Validation Accuracy: 0.7728\n",
      "Epoch: 0007 cost= 27.810647548\n",
      "Training Accuracy: 0.77968204\n",
      "Validation Accuracy: 0.7776\n",
      "Epoch: 0008 cost= 26.359747490\n",
      "Training Accuracy: 0.78264105\n",
      "Validation Accuracy: 0.7816\n",
      "Epoch: 0009 cost= 25.102087359\n",
      "Training Accuracy: 0.7867026\n",
      "Validation Accuracy: 0.7812\n",
      "Epoch: 0010 cost= 24.018365697\n",
      "Training Accuracy: 0.7885231\n",
      "Validation Accuracy: 0.7828\n",
      "Epoch: 0011 cost= 23.060459172\n",
      "Training Accuracy: 0.7912308\n",
      "Validation Accuracy: 0.7824\n",
      "Epoch: 0012 cost= 22.174243678\n",
      "Training Accuracy: 0.79328203\n",
      "Validation Accuracy: 0.7856\n",
      "Epoch: 0013 cost= 21.384118574\n",
      "Training Accuracy: 0.79642564\n",
      "Validation Accuracy: 0.7886\n",
      "Epoch: 0014 cost= 20.665932242\n",
      "Training Accuracy: 0.7979026\n",
      "Validation Accuracy: 0.7896\n",
      "Epoch: 0015 cost= 19.985123285\n",
      "Training Accuracy: 0.79912823\n",
      "Validation Accuracy: 0.7902\n",
      "Epoch: 0016 cost= 19.362611471\n",
      "Training Accuracy: 0.80073845\n",
      "Validation Accuracy: 0.7914\n",
      "Epoch: 0017 cost= 18.794842820\n",
      "Training Accuracy: 0.8040359\n",
      "Validation Accuracy: 0.7948\n",
      "Epoch: 0018 cost= 18.252126823\n",
      "Training Accuracy: 0.8044359\n",
      "Validation Accuracy: 0.7952\n",
      "Epoch: 0019 cost= 17.749091603\n",
      "Training Accuracy: 0.8049128\n",
      "Validation Accuracy: 0.7978\n",
      "Epoch: 0020 cost= 17.290822386\n",
      "Training Accuracy: 0.8073436\n",
      "Validation Accuracy: 0.801\n",
      "Epoch: 0021 cost= 16.849418638\n",
      "Training Accuracy: 0.80925643\n",
      "Validation Accuracy: 0.799\n",
      "Epoch: 0022 cost= 16.436806304\n",
      "Training Accuracy: 0.8106051\n",
      "Validation Accuracy: 0.802\n",
      "Epoch: 0023 cost= 16.040879041\n",
      "Training Accuracy: 0.81153846\n",
      "Validation Accuracy: 0.8022\n",
      "Epoch: 0024 cost= 15.670841271\n",
      "Training Accuracy: 0.812759\n",
      "Validation Accuracy: 0.8026\n",
      "Epoch: 0025 cost= 15.319555518\n",
      "Training Accuracy: 0.81401026\n",
      "Validation Accuracy: 0.8056\n",
      "Epoch: 0026 cost= 14.977729904\n",
      "Training Accuracy: 0.8151692\n",
      "Validation Accuracy: 0.8032\n",
      "Epoch: 0027 cost= 14.658775343\n",
      "Training Accuracy: 0.8166513\n",
      "Validation Accuracy: 0.8048\n",
      "Epoch: 0028 cost= 14.352351852\n",
      "Training Accuracy: 0.81672823\n",
      "Validation Accuracy: 0.8058\n",
      "Epoch: 0029 cost= 14.058291707\n",
      "Training Accuracy: 0.8179128\n",
      "Validation Accuracy: 0.8068\n",
      "Epoch: 0030 cost= 13.781996163\n",
      "Training Accuracy: 0.8188051\n",
      "Validation Accuracy: 0.8072\n",
      "Epoch: 0031 cost= 13.507653134\n",
      "Training Accuracy: 0.8204718\n",
      "Validation Accuracy: 0.8092\n",
      "Epoch: 0032 cost= 13.251911258\n",
      "Training Accuracy: 0.8215128\n",
      "Validation Accuracy: 0.8096\n",
      "Epoch: 0033 cost= 13.002560168\n",
      "Training Accuracy: 0.8219641\n",
      "Validation Accuracy: 0.8106\n",
      "Epoch: 0034 cost= 12.764643187\n",
      "Training Accuracy: 0.82229745\n",
      "Validation Accuracy: 0.8096\n",
      "Epoch: 0035 cost= 12.543819058\n",
      "Training Accuracy: 0.8238564\n",
      "Validation Accuracy: 0.8118\n",
      "Epoch: 0036 cost= 12.316562264\n",
      "Training Accuracy: 0.8228205\n",
      "Validation Accuracy: 0.8138\n",
      "Epoch: 0037 cost= 12.106943428\n",
      "Training Accuracy: 0.8247333\n",
      "Validation Accuracy: 0.8116\n",
      "Epoch: 0038 cost= 11.902441921\n",
      "Training Accuracy: 0.82597435\n",
      "Validation Accuracy: 0.814\n",
      "Epoch: 0039 cost= 11.701090042\n",
      "Training Accuracy: 0.8260769\n",
      "Validation Accuracy: 0.814\n",
      "Epoch: 0040 cost= 11.507620474\n",
      "Training Accuracy: 0.82811797\n",
      "Validation Accuracy: 0.816\n",
      "Epoch: 0041 cost= 11.328276695\n",
      "Training Accuracy: 0.8280718\n",
      "Validation Accuracy: 0.8148\n",
      "Epoch: 0042 cost= 11.148853462\n",
      "Training Accuracy: 0.8281436\n",
      "Validation Accuracy: 0.8166\n",
      "Epoch: 0043 cost= 10.976976415\n",
      "Training Accuracy: 0.8275949\n",
      "Validation Accuracy: 0.8162\n",
      "Epoch: 0044 cost= 10.807869923\n",
      "Training Accuracy: 0.8274154\n",
      "Validation Accuracy: 0.8142\n",
      "Epoch: 0045 cost= 10.642796950\n",
      "Training Accuracy: 0.830759\n",
      "Validation Accuracy: 0.8166\n",
      "Epoch: 0046 cost= 10.490457683\n",
      "Training Accuracy: 0.831682\n",
      "Validation Accuracy: 0.8168\n",
      "Epoch: 0047 cost= 10.332339281\n",
      "Training Accuracy: 0.8309128\n",
      "Validation Accuracy: 0.8182\n",
      "Epoch: 0048 cost= 10.187343164\n",
      "Training Accuracy: 0.8329077\n",
      "Validation Accuracy: 0.8184\n",
      "Epoch: 0049 cost= 10.043957909\n",
      "Training Accuracy: 0.8322513\n",
      "Validation Accuracy: 0.8214\n",
      "Epoch: 0050 cost= 9.897988721\n",
      "Training Accuracy: 0.8337949\n",
      "Validation Accuracy: 0.8204\n",
      "######################################################\n",
      "Optimization Finished!\n",
      "######################################################\n",
      "TEST ACCURACY AFTER OPTIMIZATION\n",
      "Training Accuracy: 83.379486 %\n",
      "Validation Accuracy: 0.8204 %\n",
      "Test Accuracy: 88.9406 %\n"
     ]
    }
   ],
   "source": [
    "# Launch the graph\n",
    "epch_cost=[]\n",
    "train_acc=[]\n",
    "test_acc=[]\n",
    "valid_acc=[]\n",
    "with tf.Session() as sess:\n",
    "    sess.run(init)\n",
    "\n",
    "    # Training cycle\n",
    "    for epoch in range(training_epochs):\n",
    "        avg_cost = 0.\n",
    "        total_batch = int(notMNIST.train.num_examples/batch_size)\n",
    "        # Loop over all batches\n",
    "        for i in range(total_batch):\n",
    "#             print(i)\n",
    "            batch_x, batch_y = notMNIST.train.next_batch(batch_size)\n",
    "#             \n",
    "            _, c = sess.run([optimizer, cost], feed_dict={input_images: batch_x,\n",
    "                                                          y: batch_y})\n",
    "            # Compute average loss\n",
    "            avg_cost += c / total_batch\n",
    "        epch_cost.append(avg_cost)\n",
    "        # Display logs per epoch step\n",
    "        if epoch % display_step == 0:\n",
    "#             epoch_cost[i]=avg_cost\n",
    "            print(\"Epoch:\", '%04d' % (epoch+1), \"cost=\", \\\n",
    "                \"{:.9f}\".format(avg_cost))\n",
    "            # Training model\n",
    "            correct_prediction = tf.equal(tf.argmax(prediction, 1), tf.argmax(y, 1))\n",
    "            outlabel=prediction.eval({input_images:notMNIST.train.images})\n",
    "            # Training Accuracy\n",
    "            accuracy = tf.reduce_mean(tf.cast(correct_prediction, \"float\"))\n",
    "            acc1= accuracy.eval({input_images:notMNIST.train.images, y:notMNIST.train.labels})\n",
    "            train_acc.append(acc1)\n",
    "            print(\"Training Accuracy:\",acc1 )\n",
    "            \n",
    "            correct_prediction = tf.equal(tf.argmax(prediction, 1), tf.argmax(y, 1))\n",
    "            outlabel=prediction.eval({input_images:notMNIST.validation.images})\n",
    "            # Calculate accuracy\n",
    "            accuracy = tf.reduce_mean(tf.cast(correct_prediction, \"float\"))\n",
    "            acc2= accuracy.eval({input_images: notMNIST.validation.images,y:notMNIST.validation.labels})\n",
    "            valid_acc.append(acc2)\n",
    "            print(\"Validation Accuracy:\",acc2 )            \n",
    "            \n",
    "#             correct_prediction = tf.equal(tf.argmax(prediction, 1), tf.argmax(y, 1))\n",
    "#             outlabel=prediction.eval({input_images:notMNIST.test.images})\n",
    "#             # Calculate accuracy\n",
    "#             accuracy = tf.reduce_mean(tf.cast(correct_prediction, \"float\"))\n",
    "#             acc3= accuracy.eval({input_images: notMNIST.test.images,y:notMNIST.test.labels})\n",
    "#             test_acc.append(acc3)\n",
    "#             print(\"Test Accuracy:\",acc3 )\n",
    "\n",
    "    print(\"######################################################\")\n",
    "    print(\"Optimization Finished!\")\n",
    "    print(\"######################################################\")\n",
    "    \n",
    "    print(\"TEST ACCURACY AFTER OPTIMIZATION\")\n",
    "\n",
    "    # Training model\n",
    "    correct_prediction = tf.equal(tf.argmax(prediction, 1), tf.argmax(y, 1))\n",
    "    outlabel=prediction.eval({input_images:notMNIST.train.images,y:notMNIST.train.labels})\n",
    "    # Training Accuracy\n",
    "    accuracy = 100*tf.reduce_mean(tf.cast(correct_prediction, \"float\"))\n",
    "    print(\"Training Accuracy:\", accuracy.eval({input_images:notMNIST.train.images, y:notMNIST.train.labels}),\"%\")\n",
    "    print(\"Validation Accuracy:\", valid_acc[training_epochs-1],\"%\")\n",
    "\n",
    "    # Test model\n",
    "    correct_prediction = tf.equal(tf.argmax(prediction, 1), tf.argmax(y, 1))\n",
    "    outlabel=prediction.eval({input_images:notMNIST.test.images})\n",
    "    # Calculate accuracy\n",
    "    accuracy = 100*tf.reduce_mean(tf.cast(correct_prediction, \"float\"))\n",
    "    print(\"Test Accuracy:\", accuracy.eval({input_images: notMNIST.test.images,y:notMNIST.test.labels}),\"%\")"
   ]
  },
  {
   "cell_type": "markdown",
   "metadata": {},
   "source": [
    "### PLOTS for Visual Analysis"
   ]
  },
  {
   "cell_type": "code",
   "execution_count": 106,
   "metadata": {
    "collapsed": false
   },
   "outputs": [
    {
     "data": {
      "image/png": "[encoded data removed]",
      "text/plain": [
       "<Figure size 432x288 with 1 Axes>"
      ]
     },
     "metadata": {},
     "output_type": "display_data"
    },
    {
     "data": {
      "image/png": "[encoded data removed]",
      "text/plain": [
       "<Figure size 432x288 with 1 Axes>"
      ]
     },
     "metadata": {},
     "output_type": "display_data"
    }
   ],
   "source": [
    "fig = plt.figure()\n",
    "fig.suptitle('COST FUNCTION vs EPOCH', fontsize=14, fontweight='bold')\n",
    "ax = fig.add_subplot(111)\n",
    "# ax=plt.figure()\n",
    "# ax.set_title('Cost Function')\n",
    "ax.set_xlabel('EPOCH')\n",
    "ax.set_ylabel('COST')\n",
    "ax.plot(epch_cost)\n",
    "\n",
    "# fig, ax1=plt.subplots(epch_cost)\n",
    "# # ax1.set_xlabel('$EPOCHS$')\n",
    "# function1 = ax1.plot(epch_cost, 'b', label='Sine')\n",
    "fig = plt.figure()\n",
    "fig.suptitle('TRAINING ACCURACY PLOT', fontsize=14, fontweight='bold')\n",
    "ax = fig.add_subplot(111)\n",
    "\n",
    "ax.set_xlabel('EPOCH')\n",
    "ax.set_ylabel('ACCURACY')\n",
    "ax.plot(train_acc, label=\"Tr_acc\")\n",
    "plt.show()\n"
   ]
  },
  {
   "cell_type": "code",
   "execution_count": 107,
   "metadata": {
    "collapsed": false
   },
   "outputs": [
    {
     "data": {
      "image/png": "[encoded data removed]",
      "text/plain": [
       "<Figure size 432x288 with 1 Axes>"
      ]
     },
     "metadata": {},
     "output_type": "display_data"
    }
   ],
   "source": [
    "fig = plt.figure()\n",
    "fig.suptitle('VALIDATION ACCURACY PLOT', fontsize=14, fontweight='bold')\n",
    "ax = fig.add_subplot(111)\n",
    "\n",
    "ax.set_xlabel('EPOCH')\n",
    "ax.set_ylabel('ACCURACY')\n",
    "ax.plot(valid_acc, label=\"valid_acc\")\n",
    "# ax.plot(valid_acc, label=\"Val_acc\")\n",
    "# ax.plot(test_acc, label=\"Test_acc\")\n",
    "plt.show()"
   ]
  }
 ],
 "metadata": {
  "anaconda-cloud": {},
  "kernelspec": {
   "display_name": "Python [conda env:tensorflow]",
   "language": "python",
   "name": "conda-env-tensorflow-py"
  },
  "language_info": {
   "codemirror_mode": {
    "name": "ipython",
    "version": 3
   },
   "file_extension": ".py",
   "mimetype": "text/x-python",
   "name": "python",
   "nbconvert_exporter": "python",
   "pygments_lexer": "ipython3",
   "version": "3.5.4"
  }
 },
 "nbformat": 4,
 "nbformat_minor": 1
}
