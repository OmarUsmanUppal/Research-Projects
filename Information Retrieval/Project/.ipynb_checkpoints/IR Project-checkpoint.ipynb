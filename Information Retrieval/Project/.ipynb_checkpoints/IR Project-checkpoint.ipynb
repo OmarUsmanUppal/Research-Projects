{
 "cells": [
  {
   "cell_type": "code",
   "execution_count": 6,
   "metadata": {},
   "outputs": [],
   "source": [
    "import pandas as pd, numpy as np"
   ]
  },
  {
   "cell_type": "code",
   "execution_count": 9,
   "metadata": {},
   "outputs": [],
   "source": [
    "vocabFile=open('./vocab.nips.txt','r')\n",
    "vocabulary=[]\n",
    "for line in vocabFile:\n",
    "    vocabulary.append(line.split()[0])"
   ]
  },
  {
   "cell_type": "code",
   "execution_count": 10,
   "metadata": {},
   "outputs": [
    {
     "name": "stdout",
     "output_type": "stream",
     "text": [
      "1500 12419 746316\n"
     ]
    }
   ],
   "source": [
    "dataFile=open('./docword.nips.txt','r')\n",
    "nDocs=int(dataFile.readline())\n",
    "nWords=int(dataFile.readline())\n",
    "nCollectionSize=int(dataFile.readline())\n",
    "print(nDocs,nWords,nCollectionSize)\n",
    "tfA=np.zeros((nDocs,nWords))\n",
    "for line in dataFile:\n",
    "    components=line.split()\n",
    "    tfA[int(components[0])-1,int(components[1])-1]=int(components[2])"
   ]
  },
  {
   "cell_type": "code",
   "execution_count": 11,
   "metadata": {},
   "outputs": [
    {
     "name": "stdout",
     "output_type": "stream",
     "text": [
      "['1500', '12414', '1']\n",
      "(1500, 12419)\n"
     ]
    }
   ],
   "source": [
    "print(components)\n",
    "print(tfA.shape)"
   ]
  },
  {
   "cell_type": "code",
   "execution_count": 12,
   "metadata": {},
   "outputs": [],
   "source": [
    "tfArray=pd.DataFrame(data=tfA,columns=vocabulary)"
   ]
  },
  {
   "cell_type": "code",
   "execution_count": 13,
   "metadata": {},
   "outputs": [
    {
     "data": {
      "text/html": [
       "<div>\n",
       "<style scoped>\n",
       "    .dataframe tbody tr th:only-of-type {\n",
       "        vertical-align: middle;\n",
       "    }\n",
       "\n",
       "    .dataframe tbody tr th {\n",
       "        vertical-align: top;\n",
       "    }\n",
       "\n",
       "    .dataframe thead th {\n",
       "        text-align: right;\n",
       "    }\n",
       "</style>\n",
       "<table border=\"1\" class=\"dataframe\">\n",
       "  <thead>\n",
       "    <tr style=\"text-align: right;\">\n",
       "      <th></th>\n",
       "      <th>a2i</th>\n",
       "      <th>aaa</th>\n",
       "      <th>aaai</th>\n",
       "      <th>aapo</th>\n",
       "      <th>aat</th>\n",
       "      <th>aazhang</th>\n",
       "      <th>abandonment</th>\n",
       "      <th>abbott</th>\n",
       "      <th>abbreviated</th>\n",
       "      <th>abcde</th>\n",
       "      <th>...</th>\n",
       "      <th>zones</th>\n",
       "      <th>zoo</th>\n",
       "      <th>zorn</th>\n",
       "      <th>zornetzer</th>\n",
       "      <th>zoubin</th>\n",
       "      <th>zucker</th>\n",
       "      <th>zue</th>\n",
       "      <th>zur</th>\n",
       "      <th>zurich</th>\n",
       "      <th>zwislocki</th>\n",
       "    </tr>\n",
       "  </thead>\n",
       "  <tbody>\n",
       "    <tr>\n",
       "      <th>0</th>\n",
       "      <td>0.0</td>\n",
       "      <td>1.0</td>\n",
       "      <td>0.0</td>\n",
       "      <td>0.0</td>\n",
       "      <td>0.0</td>\n",
       "      <td>0.0</td>\n",
       "      <td>0.0</td>\n",
       "      <td>0.0</td>\n",
       "      <td>0.0</td>\n",
       "      <td>0.0</td>\n",
       "      <td>...</td>\n",
       "      <td>0.0</td>\n",
       "      <td>0.0</td>\n",
       "      <td>0.0</td>\n",
       "      <td>0.0</td>\n",
       "      <td>0.0</td>\n",
       "      <td>0.0</td>\n",
       "      <td>0.0</td>\n",
       "      <td>0.0</td>\n",
       "      <td>0.0</td>\n",
       "      <td>0.0</td>\n",
       "    </tr>\n",
       "    <tr>\n",
       "      <th>1</th>\n",
       "      <td>0.0</td>\n",
       "      <td>0.0</td>\n",
       "      <td>0.0</td>\n",
       "      <td>0.0</td>\n",
       "      <td>0.0</td>\n",
       "      <td>0.0</td>\n",
       "      <td>0.0</td>\n",
       "      <td>0.0</td>\n",
       "      <td>0.0</td>\n",
       "      <td>0.0</td>\n",
       "      <td>...</td>\n",
       "      <td>0.0</td>\n",
       "      <td>0.0</td>\n",
       "      <td>0.0</td>\n",
       "      <td>0.0</td>\n",
       "      <td>0.0</td>\n",
       "      <td>0.0</td>\n",
       "      <td>0.0</td>\n",
       "      <td>0.0</td>\n",
       "      <td>0.0</td>\n",
       "      <td>0.0</td>\n",
       "    </tr>\n",
       "    <tr>\n",
       "      <th>2</th>\n",
       "      <td>0.0</td>\n",
       "      <td>0.0</td>\n",
       "      <td>0.0</td>\n",
       "      <td>0.0</td>\n",
       "      <td>0.0</td>\n",
       "      <td>0.0</td>\n",
       "      <td>0.0</td>\n",
       "      <td>0.0</td>\n",
       "      <td>0.0</td>\n",
       "      <td>0.0</td>\n",
       "      <td>...</td>\n",
       "      <td>0.0</td>\n",
       "      <td>0.0</td>\n",
       "      <td>0.0</td>\n",
       "      <td>0.0</td>\n",
       "      <td>0.0</td>\n",
       "      <td>0.0</td>\n",
       "      <td>0.0</td>\n",
       "      <td>0.0</td>\n",
       "      <td>0.0</td>\n",
       "      <td>0.0</td>\n",
       "    </tr>\n",
       "    <tr>\n",
       "      <th>3</th>\n",
       "      <td>0.0</td>\n",
       "      <td>0.0</td>\n",
       "      <td>0.0</td>\n",
       "      <td>0.0</td>\n",
       "      <td>0.0</td>\n",
       "      <td>0.0</td>\n",
       "      <td>0.0</td>\n",
       "      <td>0.0</td>\n",
       "      <td>0.0</td>\n",
       "      <td>0.0</td>\n",
       "      <td>...</td>\n",
       "      <td>0.0</td>\n",
       "      <td>0.0</td>\n",
       "      <td>0.0</td>\n",
       "      <td>0.0</td>\n",
       "      <td>0.0</td>\n",
       "      <td>0.0</td>\n",
       "      <td>0.0</td>\n",
       "      <td>0.0</td>\n",
       "      <td>0.0</td>\n",
       "      <td>0.0</td>\n",
       "    </tr>\n",
       "    <tr>\n",
       "      <th>4</th>\n",
       "      <td>0.0</td>\n",
       "      <td>0.0</td>\n",
       "      <td>0.0</td>\n",
       "      <td>0.0</td>\n",
       "      <td>0.0</td>\n",
       "      <td>0.0</td>\n",
       "      <td>0.0</td>\n",
       "      <td>0.0</td>\n",
       "      <td>0.0</td>\n",
       "      <td>0.0</td>\n",
       "      <td>...</td>\n",
       "      <td>0.0</td>\n",
       "      <td>0.0</td>\n",
       "      <td>0.0</td>\n",
       "      <td>0.0</td>\n",
       "      <td>0.0</td>\n",
       "      <td>0.0</td>\n",
       "      <td>0.0</td>\n",
       "      <td>0.0</td>\n",
       "      <td>0.0</td>\n",
       "      <td>0.0</td>\n",
       "    </tr>\n",
       "  </tbody>\n",
       "</table>\n",
       "<p>5 rows × 12419 columns</p>\n",
       "</div>"
      ],
      "text/plain": [
       "   a2i  aaa  aaai  aapo  aat  aazhang  abandonment  abbott  abbreviated  \\\n",
       "0  0.0  1.0   0.0   0.0  0.0      0.0          0.0     0.0          0.0   \n",
       "1  0.0  0.0   0.0   0.0  0.0      0.0          0.0     0.0          0.0   \n",
       "2  0.0  0.0   0.0   0.0  0.0      0.0          0.0     0.0          0.0   \n",
       "3  0.0  0.0   0.0   0.0  0.0      0.0          0.0     0.0          0.0   \n",
       "4  0.0  0.0   0.0   0.0  0.0      0.0          0.0     0.0          0.0   \n",
       "\n",
       "   abcde    ...      zones  zoo  zorn  zornetzer  zoubin  zucker  zue  zur  \\\n",
       "0    0.0    ...        0.0  0.0   0.0        0.0     0.0     0.0  0.0  0.0   \n",
       "1    0.0    ...        0.0  0.0   0.0        0.0     0.0     0.0  0.0  0.0   \n",
       "2    0.0    ...        0.0  0.0   0.0        0.0     0.0     0.0  0.0  0.0   \n",
       "3    0.0    ...        0.0  0.0   0.0        0.0     0.0     0.0  0.0  0.0   \n",
       "4    0.0    ...        0.0  0.0   0.0        0.0     0.0     0.0  0.0  0.0   \n",
       "\n",
       "   zurich  zwislocki  \n",
       "0     0.0        0.0  \n",
       "1     0.0        0.0  \n",
       "2     0.0        0.0  \n",
       "3     0.0        0.0  \n",
       "4     0.0        0.0  \n",
       "\n",
       "[5 rows x 12419 columns]"
      ]
     },
     "execution_count": 13,
     "metadata": {},
     "output_type": "execute_result"
    }
   ],
   "source": [
    "tfArray.head()"
   ]
  },
  {
   "cell_type": "code",
   "execution_count": 14,
   "metadata": {},
   "outputs": [],
   "source": [
    "nonZeros=(tfArray>0).astype(int)"
   ]
  },
  {
   "cell_type": "code",
   "execution_count": 20,
   "metadata": {},
   "outputs": [
    {
     "data": {
      "text/html": [
       "<div>\n",
       "<style scoped>\n",
       "    .dataframe tbody tr th:only-of-type {\n",
       "        vertical-align: middle;\n",
       "    }\n",
       "\n",
       "    .dataframe tbody tr th {\n",
       "        vertical-align: top;\n",
       "    }\n",
       "\n",
       "    .dataframe thead th {\n",
       "        text-align: right;\n",
       "    }\n",
       "</style>\n",
       "<table border=\"1\" class=\"dataframe\">\n",
       "  <thead>\n",
       "    <tr style=\"text-align: right;\">\n",
       "      <th></th>\n",
       "      <th>a2i</th>\n",
       "      <th>aaa</th>\n",
       "      <th>aaai</th>\n",
       "      <th>aapo</th>\n",
       "      <th>aat</th>\n",
       "      <th>aazhang</th>\n",
       "      <th>abandonment</th>\n",
       "      <th>abbott</th>\n",
       "      <th>abbreviated</th>\n",
       "      <th>abcde</th>\n",
       "      <th>...</th>\n",
       "      <th>zones</th>\n",
       "      <th>zoo</th>\n",
       "      <th>zorn</th>\n",
       "      <th>zornetzer</th>\n",
       "      <th>zoubin</th>\n",
       "      <th>zucker</th>\n",
       "      <th>zue</th>\n",
       "      <th>zur</th>\n",
       "      <th>zurich</th>\n",
       "      <th>zwislocki</th>\n",
       "    </tr>\n",
       "  </thead>\n",
       "  <tbody>\n",
       "    <tr>\n",
       "      <th>0</th>\n",
       "      <td>0</td>\n",
       "      <td>1</td>\n",
       "      <td>0</td>\n",
       "      <td>0</td>\n",
       "      <td>0</td>\n",
       "      <td>0</td>\n",
       "      <td>0</td>\n",
       "      <td>0</td>\n",
       "      <td>0</td>\n",
       "      <td>0</td>\n",
       "      <td>...</td>\n",
       "      <td>0</td>\n",
       "      <td>0</td>\n",
       "      <td>0</td>\n",
       "      <td>0</td>\n",
       "      <td>0</td>\n",
       "      <td>0</td>\n",
       "      <td>0</td>\n",
       "      <td>0</td>\n",
       "      <td>0</td>\n",
       "      <td>0</td>\n",
       "    </tr>\n",
       "    <tr>\n",
       "      <th>1</th>\n",
       "      <td>0</td>\n",
       "      <td>0</td>\n",
       "      <td>0</td>\n",
       "      <td>0</td>\n",
       "      <td>0</td>\n",
       "      <td>0</td>\n",
       "      <td>0</td>\n",
       "      <td>0</td>\n",
       "      <td>0</td>\n",
       "      <td>0</td>\n",
       "      <td>...</td>\n",
       "      <td>0</td>\n",
       "      <td>0</td>\n",
       "      <td>0</td>\n",
       "      <td>0</td>\n",
       "      <td>0</td>\n",
       "      <td>0</td>\n",
       "      <td>0</td>\n",
       "      <td>0</td>\n",
       "      <td>0</td>\n",
       "      <td>0</td>\n",
       "    </tr>\n",
       "    <tr>\n",
       "      <th>2</th>\n",
       "      <td>0</td>\n",
       "      <td>0</td>\n",
       "      <td>0</td>\n",
       "      <td>0</td>\n",
       "      <td>0</td>\n",
       "      <td>0</td>\n",
       "      <td>0</td>\n",
       "      <td>0</td>\n",
       "      <td>0</td>\n",
       "      <td>0</td>\n",
       "      <td>...</td>\n",
       "      <td>0</td>\n",
       "      <td>0</td>\n",
       "      <td>0</td>\n",
       "      <td>0</td>\n",
       "      <td>0</td>\n",
       "      <td>0</td>\n",
       "      <td>0</td>\n",
       "      <td>0</td>\n",
       "      <td>0</td>\n",
       "      <td>0</td>\n",
       "    </tr>\n",
       "    <tr>\n",
       "      <th>3</th>\n",
       "      <td>0</td>\n",
       "      <td>0</td>\n",
       "      <td>0</td>\n",
       "      <td>0</td>\n",
       "      <td>0</td>\n",
       "      <td>0</td>\n",
       "      <td>0</td>\n",
       "      <td>0</td>\n",
       "      <td>0</td>\n",
       "      <td>0</td>\n",
       "      <td>...</td>\n",
       "      <td>0</td>\n",
       "      <td>0</td>\n",
       "      <td>0</td>\n",
       "      <td>0</td>\n",
       "      <td>0</td>\n",
       "      <td>0</td>\n",
       "      <td>0</td>\n",
       "      <td>0</td>\n",
       "      <td>0</td>\n",
       "      <td>0</td>\n",
       "    </tr>\n",
       "    <tr>\n",
       "      <th>4</th>\n",
       "      <td>0</td>\n",
       "      <td>0</td>\n",
       "      <td>0</td>\n",
       "      <td>0</td>\n",
       "      <td>0</td>\n",
       "      <td>0</td>\n",
       "      <td>0</td>\n",
       "      <td>0</td>\n",
       "      <td>0</td>\n",
       "      <td>0</td>\n",
       "      <td>...</td>\n",
       "      <td>0</td>\n",
       "      <td>0</td>\n",
       "      <td>0</td>\n",
       "      <td>0</td>\n",
       "      <td>0</td>\n",
       "      <td>0</td>\n",
       "      <td>0</td>\n",
       "      <td>0</td>\n",
       "      <td>0</td>\n",
       "      <td>0</td>\n",
       "    </tr>\n",
       "  </tbody>\n",
       "</table>\n",
       "<p>5 rows × 12419 columns</p>\n",
       "</div>"
      ],
      "text/plain": [
       "   a2i  aaa  aaai  aapo  aat  aazhang  abandonment  abbott  abbreviated  \\\n",
       "0    0    1     0     0    0        0            0       0            0   \n",
       "1    0    0     0     0    0        0            0       0            0   \n",
       "2    0    0     0     0    0        0            0       0            0   \n",
       "3    0    0     0     0    0        0            0       0            0   \n",
       "4    0    0     0     0    0        0            0       0            0   \n",
       "\n",
       "   abcde    ...      zones  zoo  zorn  zornetzer  zoubin  zucker  zue  zur  \\\n",
       "0      0    ...          0    0     0          0       0       0    0    0   \n",
       "1      0    ...          0    0     0          0       0       0    0    0   \n",
       "2      0    ...          0    0     0          0       0       0    0    0   \n",
       "3      0    ...          0    0     0          0       0       0    0    0   \n",
       "4      0    ...          0    0     0          0       0       0    0    0   \n",
       "\n",
       "   zurich  zwislocki  \n",
       "0       0          0  \n",
       "1       0          0  \n",
       "2       0          0  \n",
       "3       0          0  \n",
       "4       0          0  \n",
       "\n",
       "[5 rows x 12419 columns]"
      ]
     },
     "execution_count": 20,
     "metadata": {},
     "output_type": "execute_result"
    }
   ],
   "source": [
    "nonZeros.head()"
   ]
  },
  {
   "cell_type": "code",
   "execution_count": 23,
   "metadata": {},
   "outputs": [
    {
     "name": "stdout",
     "output_type": "stream",
     "text": [
      "a2i             300.000000\n",
      "aaa             107.142857\n",
      "aaai             28.301887\n",
      "aapo            187.500000\n",
      "aat             300.000000\n",
      "aazhang         750.000000\n",
      "abandonment     750.000000\n",
      "abbott           57.692308\n",
      "abbreviated     125.000000\n",
      "abcde           750.000000\n",
      "abe             214.285714\n",
      "abeles           78.947368\n",
      "abi            1500.000000\n",
      "abilistic       250.000000\n",
      "abilities        16.666667\n",
      "ability           3.623188\n",
      "abl            1500.000000\n",
      "able              2.491694\n",
      "ables            41.666667\n",
      "ablex           187.500000\n",
      "ably            150.000000\n",
      "abnormal        107.142857\n",
      "abort           214.285714\n",
      "abound          125.000000\n",
      "abramowicz      375.000000\n",
      "abrash          250.000000\n",
      "abrupt           93.750000\n",
      "abruptly        166.666667\n",
      "abscissa         93.750000\n",
      "absence           8.474576\n",
      "                  ...     \n",
      "zhaoping        150.000000\n",
      "zhou            136.363636\n",
      "zhu             115.384615\n",
      "ziehe           214.285714\n",
      "zig             375.000000\n",
      "zigzag         1500.000000\n",
      "zij             107.142857\n",
      "zimmermann      150.000000\n",
      "zip              37.500000\n",
      "zipcode         166.666667\n",
      "zipser           34.090909\n",
      "zipset           45.454545\n",
      "zisserman       166.666667\n",
      "ziv             375.000000\n",
      "zky             100.000000\n",
      "zlt            1500.000000\n",
      "zlx             166.666667\n",
      "zly            1500.000000\n",
      "zohary          375.000000\n",
      "zone             71.428571\n",
      "zones           125.000000\n",
      "zoo             214.285714\n",
      "zorn           1500.000000\n",
      "zornetzer       150.000000\n",
      "zoubin           57.692308\n",
      "zucker          166.666667\n",
      "zue             500.000000\n",
      "zur             214.285714\n",
      "zurich          125.000000\n",
      "zwislocki      1500.000000\n",
      "Length: 12419, dtype: float64\n",
      "300.0\n"
     ]
    }
   ],
   "source": [
    "df=nonZeros.sum()\n",
    "idf=nDocs/df\n",
    "print(idf)\n",
    "print(idf[0])"
   ]
  },
  {
   "cell_type": "code",
   "execution_count": 119,
   "metadata": {},
   "outputs": [
    {
     "name": "stdout",
     "output_type": "stream",
     "text": [
      "[1144 1271 1306 1394 1440]\n",
      "5 300.0\n"
     ]
    }
   ],
   "source": [
    "print(indices)\n",
    "df=len(indices)\n",
    "idf=nDocs/df\n",
    "print(df,idf)"
   ]
  },
  {
   "cell_type": "code",
   "execution_count": 1,
   "metadata": {},
   "outputs": [],
   "source": [
    "matrix=[[1,0],[2,3]]"
   ]
  },
  {
   "cell_type": "code",
   "execution_count": 2,
   "metadata": {},
   "outputs": [
    {
     "name": "stdout",
     "output_type": "stream",
     "text": [
      "[[1, 0], [2, 3]]\n"
     ]
    }
   ],
   "source": [
    "print(matrix)"
   ]
  },
  {
   "cell_type": "code",
   "execution_count": 3,
   "metadata": {},
   "outputs": [
    {
     "name": "stdout",
     "output_type": "stream",
     "text": [
      "3\n"
     ]
    }
   ],
   "source": [
    "print(matrix[1][1])"
   ]
  },
  {
   "cell_type": "code",
   "execution_count": 8,
   "metadata": {},
   "outputs": [
    {
     "data": {
      "text/plain": [
       "array([[1, 0],\n",
       "       [1, 1]])"
      ]
     },
     "execution_count": 8,
     "metadata": {},
     "output_type": "execute_result"
    }
   ],
   "source": [
    "npMatrix=np.array(matrix)\n",
    "(npMatrix>0).astype(int)"
   ]
  },
  {
   "cell_type": "code",
   "execution_count": null,
   "metadata": {},
   "outputs": [
    {
     "name": "stdout",
     "output_type": "stream",
     "text": [
      "(1500, 12419)\n",
      "(array([   0,    0,    0, ..., 1499, 1499, 1499], dtype=int64), array([    1,    38,    41, ..., 12389, 12392, 12413], dtype=int64))\n"
     ]
    }
   ],
   "source": [
    "nonZeros=pd.DataFrame(np.zeros(tfArray.shape))\n",
    "print(nonZeros.shape)\n",
    "print(tfA.nonzero())\n",
    "nonZeros.iloc[tfA.nonzero()]=1\n",
    "print(nonZeros.iloc[0,10367])"
   ]
  },
  {
   "cell_type": "code",
   "execution_count": 147,
   "metadata": {},
   "outputs": [],
   "source": [
    "df=pd.DataFrame(mNumpy)"
   ]
  },
  {
   "cell_type": "code",
   "execution_count": 167,
   "metadata": {},
   "outputs": [
    {
     "name": "stdout",
     "output_type": "stream",
     "text": [
      "(array([0, 1, 1], dtype=int64), array([0, 0, 1], dtype=int64))\n"
     ]
    }
   ],
   "source": [
    "print(mNumpy.nonzero())"
   ]
  },
  {
   "cell_type": "code",
   "execution_count": null,
   "metadata": {},
   "outputs": [],
   "source": []
  }
 ],
 "metadata": {
  "kernelspec": {
   "display_name": "Python 3",
   "language": "python",
   "name": "python3"
  },
  "language_info": {
   "codemirror_mode": {
    "name": "ipython",
    "version": 3
   },
   "file_extension": ".py",
   "mimetype": "text/x-python",
   "name": "python",
   "nbconvert_exporter": "python",
   "pygments_lexer": "ipython3",
   "version": "3.6.4"
  }
 },
 "nbformat": 4,
 "nbformat_minor": 2
}
