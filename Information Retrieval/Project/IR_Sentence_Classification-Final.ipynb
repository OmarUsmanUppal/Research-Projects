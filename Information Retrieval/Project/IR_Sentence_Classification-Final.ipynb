{
 "cells": [
  {
   "cell_type": "markdown",
   "metadata": {},
   "source": [
    "# SENTENCE CLASSIFICATION\n",
    "\n",
    "## STEP 1: IMPORT LIBRARIES"
   ]
  },
  {
   "cell_type": "code",
   "execution_count": 6,
   "metadata": {
    "collapsed": true
   },
   "outputs": [],
   "source": [
    "import os\n",
    "import time\n",
    "import re\n",
    "# import nltk\n",
    "from sklearn.metrics import f1_score, confusion_matrix\n",
    "from sklearn.naive_bayes import MultinomialNB\n",
    "from sklearn.neighbors import NearestCentroid, KNeighborsClassifier\n",
    "from sklearn.feature_extraction.text import TfidfVectorizer\n",
    "import numpy as np"
   ]
  },
  {
   "cell_type": "markdown",
   "metadata": {},
   "source": [
    "## STEP 2: READ THE DATA"
   ]
  },
  {
   "cell_type": "code",
   "execution_count": 7,
   "metadata": {
    "collapsed": true
   },
   "outputs": [],
   "source": [
    "def list_files_from_directory(directory):\n",
    "    \"\"\"Lists all file paths from given directory\"\"\"\n",
    "\n",
    "    ret_val = []\n",
    "    for file in os.listdir(directory):\n",
    "        if file.endswith(\".txt\"):\n",
    "            ret_val.append(str(directory) + \"/\" + str(file))\n",
    "    return ret_val"
   ]
  },
  {
   "cell_type": "code",
   "execution_count": 8,
   "metadata": {
    "collapsed": true
   },
   "outputs": [],
   "source": [
    "def read_file(path):\n",
    "    \"\"\"Reads all lines from file on given path\"\"\"\n",
    "\n",
    "    f = open(path, \"r\")\n",
    "    read = f.readlines()\n",
    "    ret_val = []\n",
    "    for line in read:\n",
    "        if line.startswith(\"#\"):\n",
    "            pass\n",
    "        else:\n",
    "            ret_val.append(line)\n",
    "    return ret_val"
   ]
  },
  {
   "cell_type": "code",
   "execution_count": 9,
   "metadata": {
    "collapsed": true
   },
   "outputs": [],
   "source": [
    "def process_line(line):\n",
    "    \"\"\"Returns sentence category and sentence in given line\"\"\"\n",
    "\n",
    "    if \"\\t\" in line:\n",
    "        splits = line.split(\"\\t\")\n",
    "        s_category = splits[0]\n",
    "        sentence = splits[1].lower()\n",
    "        for sw in stopwords:\n",
    "            sentence = sentence.replace(sw, \"\")\n",
    "        pattern = re.compile(\"[^\\w']\")\n",
    "        sentence = pattern.sub(' ', sentence)\n",
    "        sentence = re.sub(' +', ' ', sentence)\n",
    "        return s_category, sentence\n",
    "    else:\n",
    "        splits = line.split(\" \")\n",
    "        s_category = splits[0]\n",
    "        s_category=s_category[0:4]\n",
    "#         print(s_category,\"else\")\n",
    "\n",
    "        sentence = line[len(s_category)+1:].lower()\n",
    "        for sw in stopwords:\n",
    "            sentence = sentence.replace(sw, \"\")\n",
    "        pattern = re.compile(\"[^\\w']\")\n",
    "        sentence = pattern.sub(' ', sentence)\n",
    "        sentence = re.sub(' +', ' ', sentence)\n",
    "        return s_category, sentence"
   ]
  },
  {
   "cell_type": "code",
   "execution_count": 10,
   "metadata": {
    "collapsed": true
   },
   "outputs": [],
   "source": [
    "def create_labels_text_file(input_folder, destination_file_data, destination_file_label):\n",
    "    \"\"\"Writes training data from given folder into formatted label and data text files\"\"\"\n",
    "\n",
    "    tr_folder = list_files_from_directory(input_folder)\n",
    "    data_file = []\n",
    "    label_file = []\n",
    "    \n",
    "    for file in tr_folder:\n",
    "        lines = read_file(file)\n",
    "        for line in lines:\n",
    "            c, s = process_line(line)\n",
    "            if c.endswith('\\n'):\n",
    "                c = c[:-1]\n",
    "\n",
    "            data_file.append(s)\n",
    "            label_file.append(c)\n",
    "\n",
    "    file = open(destination_file_data,\"a\")\n",
    "    for txt in data_file:\n",
    "        file.write(txt)\n",
    "        file.write(\"\\n\")\n",
    "    file.close()\n",
    "    \n",
    "    file = open(destination_file_label,\"w\")\n",
    "    for txt in label_file:\n",
    "        file.write(txt)\n",
    "        file.write(\"\\n\")\n",
    "    file.close()\n",
    "    \n"
   ]
  },
  {
   "cell_type": "code",
   "execution_count": 11,
   "metadata": {
    "collapsed": true
   },
   "outputs": [],
   "source": [
    "# loading stopwords\n",
    "input_stopwords = read_file(\"word_lists/stopwords.txt\")\n",
    "stopwords = []\n",
    "for word in input_stopwords:\n",
    "    if word.endswith('\\n'):\n",
    "        word = word[:-1]\n",
    "        stopwords.append(word)"
   ]
  },
  {
   "cell_type": "markdown",
   "metadata": {},
   "source": [
    "## READ TRAINING AND TEST DATA"
   ]
  },
  {
   "cell_type": "code",
   "execution_count": 24,
   "metadata": {
    "collapsed": false
   },
   "outputs": [],
   "source": [
    "\n",
    "# prepare training and test data\n",
    "create_labels_text_file(\"training_set\", \"training_data.txt\",\"training_label.txt\")\n",
    "create_labels_text_file(\"test_set\", \"training_data.txt\",\"test_label.txt\")\n",
    "\n",
    "#categories, sentences = prepare_test_data(\"test_set\")"
   ]
  },
  {
   "cell_type": "markdown",
   "metadata": {},
   "source": [
    "## CONVERT TEXT DATA INTO VECTOR FORMAT"
   ]
  },
  {
   "cell_type": "code",
   "execution_count": 25,
   "metadata": {
    "collapsed": false
   },
   "outputs": [],
   "source": [
    "vectorizer = TfidfVectorizer()\n",
    "vectorized_data = vectorizer.fit_transform(read_file(\"training_data.txt\"))\n",
    "train_labels=read_file(\"training_label.txt\")\n",
    "test_labels=read_file(\"test_label.txt\")\n",
    "# vectorizer2 = TfidfVectorizer(stop_words='english')\n",
    "# vectorized_labels = vectorizer2.fit_transform(lab)"
   ]
  },
  {
   "cell_type": "code",
   "execution_count": 26,
   "metadata": {
    "collapsed": false
   },
   "outputs": [
    {
     "data": {
      "text/plain": [
       "(3117, 3801)"
      ]
     },
     "execution_count": 26,
     "metadata": {},
     "output_type": "execute_result"
    }
   ],
   "source": [
    "vectorized_data.shape"
   ]
  },
  {
   "cell_type": "code",
   "execution_count": 28,
   "metadata": {
    "collapsed": false
   },
   "outputs": [],
   "source": [
    "train_data=vectorized_data[:len(train_labels)]\n",
    "test_data=vectorized_data[len(train_labels):]"
   ]
  },
  {
   "cell_type": "code",
   "execution_count": 29,
   "metadata": {
    "collapsed": false
   },
   "outputs": [
    {
     "name": "stdout",
     "output_type": "stream",
     "text": [
      "SHAPE OF THE TRAINING DATA IS :  (2500, 3801)\n",
      "SHAPE OF THE TEST DATA IS (617, 3801)\n",
      "LENGTH OF TRAINING LABELS: 2500\n",
      "LENGTH OF TEST SAMPLES 617\n"
     ]
    }
   ],
   "source": [
    "print(\"SHAPE OF THE TRAINING DATA IS : \",train_data.shape)\n",
    "print(\"SHAPE OF THE TEST DATA IS\",test_data.shape)\n",
    "print(\"LENGTH OF TRAINING LABELS:\",len(train_labels))\n",
    "print(\"LENGTH OF TEST SAMPLES\",len(test_labels))"
   ]
  },
  {
   "cell_type": "markdown",
   "metadata": {},
   "source": [
    "# NAIVE BAYES CLASSIFIER"
   ]
  },
  {
   "cell_type": "code",
   "execution_count": 30,
   "metadata": {
    "collapsed": true
   },
   "outputs": [],
   "source": [
    "def accuracy(y_label, y_pred):\n",
    "    count=0\n",
    "    total=len(y_label)\n",
    "    for i in range(total):\n",
    "        if y_label[i]==y_pred[i]:\n",
    "            count+=1\n",
    "            \n",
    "    return float(count/total)\n",
    "        "
   ]
  },
  {
   "cell_type": "code",
   "execution_count": 31,
   "metadata": {
    "collapsed": false
   },
   "outputs": [
    {
     "data": {
      "text/plain": [
       "MultinomialNB(alpha=1.0, class_prior=None, fit_prior=True)"
      ]
     },
     "execution_count": 31,
     "metadata": {},
     "output_type": "execute_result"
    }
   ],
   "source": [
    "nbc_clf = MultinomialNB()\n",
    "nbc_clf.fit(X = train_data, y = train_labels)"
   ]
  },
  {
   "cell_type": "code",
   "execution_count": 32,
   "metadata": {
    "collapsed": false
   },
   "outputs": [],
   "source": [
    "nbc_predict = nbc_clf.predict(test_data)\n",
    "# nbc_clf.score(test_data,test_labels)"
   ]
  },
  {
   "cell_type": "code",
   "execution_count": 33,
   "metadata": {
    "collapsed": false
   },
   "outputs": [
    {
     "name": "stdout",
     "output_type": "stream",
     "text": [
      "Accuracy of N.B classisier is:  0.8152350081037277\n",
      "f1(micro) score of N.B classiser is:  0.8152350081037277\n",
      "f1(macro) score of N.B classiser is:  0.3350416987046786\n"
     ]
    },
    {
     "name": "stderr",
     "output_type": "stream",
     "text": [
      "C:\\Users\\HP\\Anaconda3\\envs\\tensorflow\\lib\\site-packages\\sklearn\\metrics\\classification.py:1135: UndefinedMetricWarning: F-score is ill-defined and being set to 0.0 in labels with no predicted samples.\n",
      "  'precision', 'predicted', average, warn_for)\n"
     ]
    }
   ],
   "source": [
    "print(\"Accuracy of N.B classisier is: \",accuracy(test_labels,nbc_predict))\n",
    "print(\"f1(micro) score of N.B classiser is: \",f1_score(y_true=test_labels, y_pred = nbc_predict, average='micro'))\n",
    "print(\"f1(macro) score of N.B classiser is: \",f1_score(y_true=test_labels, y_pred = nbc_predict, average='macro'))"
   ]
  },
  {
   "cell_type": "code",
   "execution_count": 34,
   "metadata": {
    "collapsed": false
   },
   "outputs": [],
   "source": [
    "def plot_confusion_matrix(cm,\n",
    "                          target_names,\n",
    "                          title='Confusion matrix',\n",
    "                          cmap=None,\n",
    "                          normalize=True):\n",
    "    \"\"\"\n",
    "    given a sklearn confusion matrix (cm), make a nice plot\n",
    "\n",
    "    Arguments\n",
    "    ---------\n",
    "    cm:           confusion matrix from sklearn.metrics.confusion_matrix\n",
    "\n",
    "    target_names: given classification classes such as [0, 1, 2]\n",
    "                  the class names, for example: ['high', 'medium', 'low']\n",
    "\n",
    "    title:        the text to display at the top of the matrix\n",
    "\n",
    "    cmap:         the gradient of the values displayed from matplotlib.pyplot.cm\n",
    "                  see http://matplotlib.org/examples/color/colormaps_reference.html\n",
    "                  plt.get_cmap('jet') or plt.cm.Blues\n",
    "\n",
    "    normalize:    If False, plot the raw numbers\n",
    "                  If True, plot the proportions\n",
    "\n",
    "    Usage\n",
    "    -----\n",
    "    plot_confusion_matrix(cm           = cm,                  # confusion matrix created by\n",
    "                                                              # sklearn.metrics.confusion_matrix\n",
    "                          normalize    = True,                # show proportions\n",
    "                          target_names = y_labels_vals,       # list of names of the classes\n",
    "                          title        = best_estimator_name) # title of graph\n",
    "\n",
    "    Citiation\n",
    "    ---------\n",
    "    http://scikit-learn.org/stable/auto_examples/model_selection/plot_confusion_matrix.html\n",
    "\n",
    "    \"\"\"\n",
    "    import matplotlib.pyplot as plt\n",
    "    import numpy as np\n",
    "    import itertools\n",
    "\n",
    "    accuracy = np.trace(cm) / float(np.sum(cm))\n",
    "    misclass = 1 - accuracy\n",
    "\n",
    "    if cmap is None:\n",
    "        cmap = plt.get_cmap('Blues')\n",
    "\n",
    "    plt.figure(figsize=(8, 6))\n",
    "    plt.imshow(cm, interpolation='nearest', cmap=cmap)\n",
    "    plt.title(title)\n",
    "    plt.colorbar()\n",
    "\n",
    "    if target_names is not None:\n",
    "        tick_marks = np.arange(len(target_names))\n",
    "        plt.xticks(tick_marks, target_names, rotation=45)\n",
    "        plt.yticks(tick_marks, target_names)\n",
    "\n",
    "    if normalize:\n",
    "        cm = cm.astype('float') / cm.sum(axis=1)[:, np.newaxis]\n",
    "\n",
    "\n",
    "    thresh = cm.max() / 1.5 if normalize else cm.max() / 2\n",
    "    for i, j in itertools.product(range(cm.shape[0]), range(cm.shape[1])):\n",
    "        if normalize:\n",
    "            plt.text(j, i, \"{:0.4f}\".format(cm[i, j]),\n",
    "                     horizontalalignment=\"center\",\n",
    "                     color=\"white\" if cm[i, j] > thresh else \"black\")\n",
    "        else:\n",
    "            plt.text(j, i, \"{:,}\".format(cm[i, j]),\n",
    "                     horizontalalignment=\"center\",\n",
    "                     color=\"white\" if cm[i, j] > thresh else \"black\")\n",
    "\n",
    "\n",
    "    plt.tight_layout()\n",
    "    plt.ylabel('True label')\n",
    "    plt.xlabel('Predicted label\\naccuracy={:0.4f}; misclass={:0.4f}'.format(accuracy, misclass))\n",
    "    plt.show()"
   ]
  },
  {
   "cell_type": "markdown",
   "metadata": {},
   "source": [
    "#### NB Classifier Confusion Matrix"
   ]
  },
  {
   "cell_type": "code",
   "execution_count": 35,
   "metadata": {
    "collapsed": false
   },
   "outputs": [
    {
     "data": {
      "image/png": "[encoded data removed]",
      "text/plain": [
       "<Figure size 576x432 with 2 Axes>"
      ]
     },
     "metadata": {},
     "output_type": "display_data"
    }
   ],
   "source": [
    "nbc_conf_matrix=confusion_matrix(test_labels,nbc_predict)\n",
    "plot_confusion_matrix(cm           = nbc_conf_matrix, \n",
    "                      normalize    = False,\n",
    "                      target_names = set(test_labels),\n",
    "                      title        = \"Naive Bayes Confusion Matrix\")"
   ]
  },
  {
   "cell_type": "markdown",
   "metadata": {},
   "source": [
    "# ROCCHIO CLASSIFIER"
   ]
  },
  {
   "cell_type": "code",
   "execution_count": 36,
   "metadata": {
    "collapsed": false
   },
   "outputs": [
    {
     "data": {
      "text/plain": [
       "NearestCentroid(metric='euclidean', shrink_threshold=None)"
      ]
     },
     "execution_count": 36,
     "metadata": {},
     "output_type": "execute_result"
    }
   ],
   "source": [
    "rocchio_clf = NearestCentroid()\n",
    "rocchio_clf.fit(X = train_data, y = train_labels)"
   ]
  },
  {
   "cell_type": "code",
   "execution_count": 37,
   "metadata": {
    "collapsed": false
   },
   "outputs": [],
   "source": [
    "rocchio_predict = rocchio_clf.predict(test_data)\n",
    "#rocchio_clf.score(test_data,test_labels)"
   ]
  },
  {
   "cell_type": "code",
   "execution_count": 38,
   "metadata": {
    "collapsed": false
   },
   "outputs": [
    {
     "name": "stdout",
     "output_type": "stream",
     "text": [
      "Accuracy of N.B classisier is:  0.826580226904376\n",
      "f1(micro) score of N.B classiser is:  0.8265802269043759\n",
      "f1(macro) score of N.B classiser is:  0.5844211537396723\n"
     ]
    },
    {
     "name": "stderr",
     "output_type": "stream",
     "text": [
      "C:\\Users\\HP\\Anaconda3\\envs\\tensorflow\\lib\\site-packages\\sklearn\\metrics\\classification.py:1137: UndefinedMetricWarning: F-score is ill-defined and being set to 0.0 in labels with no true samples.\n",
      "  'recall', 'true', average, warn_for)\n"
     ]
    }
   ],
   "source": [
    "print(\"Accuracy of N.B classisier is: \",accuracy(test_labels,rocchio_predict))\n",
    "print(\"f1(micro) score of N.B classiser is: \",f1_score(y_true=test_labels, y_pred = rocchio_predict, average='micro'))\n",
    "print(\"f1(macro) score of N.B classiser is: \",f1_score(y_true=test_labels, y_pred = rocchio_predict, average='macro'))"
   ]
  },
  {
   "cell_type": "markdown",
   "metadata": {},
   "source": [
    "#### Rocchio Confusion Matrix"
   ]
  },
  {
   "cell_type": "code",
   "execution_count": 39,
   "metadata": {
    "collapsed": false
   },
   "outputs": [
    {
     "data": {
      "image/png": "[encoded data removed]",
      "text/plain": [
       "<Figure size 576x432 with 2 Axes>"
      ]
     },
     "metadata": {},
     "output_type": "display_data"
    }
   ],
   "source": [
    "rocchio_conf_matrix=confusion_matrix(test_labels,rocchio_predict)\n",
    "plot_confusion_matrix(cm           = rocchio_conf_matrix, \n",
    "                      normalize    = False,\n",
    "                      target_names = set(test_labels),\n",
    "                      title        = \"Rocchio Confusion Matrix\")"
   ]
  },
  {
   "cell_type": "markdown",
   "metadata": {},
   "source": [
    "# kNN CLASSIFIER"
   ]
  },
  {
   "cell_type": "code",
   "execution_count": 40,
   "metadata": {
    "collapsed": false
   },
   "outputs": [
    {
     "data": {
      "text/plain": [
       "KNeighborsClassifier(algorithm='auto', leaf_size=30, metric='minkowski',\n",
       "           metric_params=None, n_jobs=1, n_neighbors=5, p=2,\n",
       "           weights='uniform')"
      ]
     },
     "execution_count": 40,
     "metadata": {},
     "output_type": "execute_result"
    }
   ],
   "source": [
    "knn_clf = KNeighborsClassifier(n_neighbors=5)\n",
    "knn_clf.fit(X = train_data, y = train_labels)"
   ]
  },
  {
   "cell_type": "code",
   "execution_count": 41,
   "metadata": {
    "collapsed": false
   },
   "outputs": [],
   "source": [
    "knn_predict = knn_clf.predict(test_data)\n",
    "# knn_clf.score(test_data,test_labels)"
   ]
  },
  {
   "cell_type": "code",
   "execution_count": 42,
   "metadata": {
    "collapsed": false
   },
   "outputs": [
    {
     "name": "stdout",
     "output_type": "stream",
     "text": [
      "Accuracy of kNN classisier with k=5 is:  0.7779578606158833\n",
      "f1(micro) score of kNN classisier with k=5 is:  0.7779578606158833\n",
      "f1(macro) score of kNN classisier with k=5 is:  0.5712896997332854\n"
     ]
    }
   ],
   "source": [
    "print(\"Accuracy of kNN classisier with k=5 is: \",accuracy(test_labels,knn_predict))\n",
    "print(\"f1(micro) score of kNN classisier with k=5 is: \",f1_score(y_true=test_labels, y_pred = knn_predict, average='micro'))\n",
    "print(\"f1(macro) score of kNN classisier with k=5 is: \",f1_score(y_true=test_labels, y_pred = knn_predict, average='macro'))"
   ]
  },
  {
   "cell_type": "markdown",
   "metadata": {},
   "source": [
    "#### knn(k=5) confusion matrix"
   ]
  },
  {
   "cell_type": "code",
   "execution_count": 43,
   "metadata": {
    "collapsed": false
   },
   "outputs": [
    {
     "data": {
      "image/png": "[encoded data removed]",
      "text/plain": [
       "<Figure size 576x432 with 2 Axes>"
      ]
     },
     "metadata": {},
     "output_type": "display_data"
    }
   ],
   "source": [
    "knn_conf_matrix=confusion_matrix(test_labels,knn_predict)\n",
    "plot_confusion_matrix(cm           = knn_conf_matrix, \n",
    "                      normalize    = False,\n",
    "                      target_names = set(test_labels),\n",
    "                      title        = \"knn(k=5) Confusion Matrix\")"
   ]
  },
  {
   "cell_type": "markdown",
   "metadata": {},
   "source": [
    "### knn(k=3)"
   ]
  },
  {
   "cell_type": "code",
   "execution_count": 44,
   "metadata": {
    "collapsed": false
   },
   "outputs": [
    {
     "data": {
      "text/plain": [
       "KNeighborsClassifier(algorithm='auto', leaf_size=30, metric='minkowski',\n",
       "           metric_params=None, n_jobs=1, n_neighbors=3, p=2,\n",
       "           weights='uniform')"
      ]
     },
     "execution_count": 44,
     "metadata": {},
     "output_type": "execute_result"
    }
   ],
   "source": [
    "knn3_clf = KNeighborsClassifier(n_neighbors=3)\n",
    "knn3_clf.fit(X = train_data, y = train_labels)"
   ]
  },
  {
   "cell_type": "code",
   "execution_count": 45,
   "metadata": {
    "collapsed": true
   },
   "outputs": [],
   "source": [
    "knn3_predict = knn3_clf.predict(test_data)"
   ]
  },
  {
   "cell_type": "code",
   "execution_count": 46,
   "metadata": {
    "collapsed": false
   },
   "outputs": [
    {
     "name": "stdout",
     "output_type": "stream",
     "text": [
      "Accuracy of kNN classisier with k=3 is:  0.8719611021069692\n",
      "f1(micro) score of kNN classisier with k=3 is:  0.8719611021069692\n",
      "f1(macro) score of kNN classisier with k=3 is:  0.7260043899234969\n"
     ]
    }
   ],
   "source": [
    "print(\"Accuracy of kNN classisier with k=3 is: \",accuracy(test_labels,knn3_predict))\n",
    "print(\"f1(micro) score of kNN classisier with k=3 is: \",f1_score(y_true=test_labels, y_pred = knn3_predict, average='micro'))\n",
    "print(\"f1(macro) score of kNN classisier with k=3 is: \",f1_score(y_true=test_labels, y_pred = knn3_predict, average='macro'))"
   ]
  },
  {
   "cell_type": "markdown",
   "metadata": {},
   "source": [
    "#### knn(k=3) confusion matrix"
   ]
  },
  {
   "cell_type": "code",
   "execution_count": 48,
   "metadata": {
    "collapsed": false
   },
   "outputs": [
    {
     "data": {
      "image/png": "[encoded data removed]",
      "text/plain": [
       "<Figure size 576x432 with 2 Axes>"
      ]
     },
     "metadata": {},
     "output_type": "display_data"
    }
   ],
   "source": [
    "knn3_conf_matrix=confusion_matrix(test_labels,knn3_predict)\n",
    "plot_confusion_matrix(cm           = knn3_conf_matrix, \n",
    "                      normalize    = False,\n",
    "                      target_names = set(test_labels),\n",
    "                      title        = \"knn(k=3) Confusion Matrix\")"
   ]
  },
  {
   "cell_type": "markdown",
   "metadata": {},
   "source": [
    "### knn(k=7)"
   ]
  },
  {
   "cell_type": "code",
   "execution_count": 49,
   "metadata": {
    "collapsed": false
   },
   "outputs": [
    {
     "data": {
      "text/plain": [
       "KNeighborsClassifier(algorithm='auto', leaf_size=30, metric='minkowski',\n",
       "           metric_params=None, n_jobs=1, n_neighbors=7, p=2,\n",
       "           weights='uniform')"
      ]
     },
     "execution_count": 49,
     "metadata": {},
     "output_type": "execute_result"
    }
   ],
   "source": [
    "knn7_clf = KNeighborsClassifier(n_neighbors=7)\n",
    "knn7_clf.fit(X = train_data, y = train_labels)"
   ]
  },
  {
   "cell_type": "code",
   "execution_count": 50,
   "metadata": {
    "collapsed": false
   },
   "outputs": [],
   "source": [
    "knn7_predict = knn7_clf.predict(test_data)"
   ]
  },
  {
   "cell_type": "code",
   "execution_count": 51,
   "metadata": {
    "collapsed": false
   },
   "outputs": [
    {
     "name": "stdout",
     "output_type": "stream",
     "text": [
      "Accuracy of kNN classisier with k=7 is:  0.7714748784440842\n",
      "f1(micro) score of kNN classisier with k=7 is:  0.7714748784440842\n",
      "f1(macro) score of kNN classisier with k=7 is:  0.4539693926351028\n"
     ]
    }
   ],
   "source": [
    "print(\"Accuracy of kNN classisier with k=7 is: \",accuracy(test_labels,knn7_predict))\n",
    "print(\"f1(micro) score of kNN classisier with k=7 is: \",f1_score(y_true=test_labels, y_pred = knn7_predict, average='micro'))\n",
    "print(\"f1(macro) score of kNN classisier with k=7 is: \",f1_score(y_true=test_labels, y_pred = knn7_predict, average='macro'))"
   ]
  },
  {
   "cell_type": "markdown",
   "metadata": {},
   "source": [
    "#### knn(k=7) confusion matrix"
   ]
  },
  {
   "cell_type": "code",
   "execution_count": 52,
   "metadata": {
    "collapsed": false
   },
   "outputs": [
    {
     "data": {
      "image/png": "[encoded data removed]",
      "text/plain": [
       "<Figure size 576x432 with 2 Axes>"
      ]
     },
     "metadata": {},
     "output_type": "display_data"
    }
   ],
   "source": [
    "knn7_conf_matrix=confusion_matrix(test_labels,knn7_predict)\n",
    "plot_confusion_matrix(cm           = knn7_conf_matrix, \n",
    "                      normalize    = False,\n",
    "                      target_names = set(test_labels),\n",
    "                      title        = \"knn(k=7) Confusion Matrix\")"
   ]
  },
  {
   "cell_type": "code",
   "execution_count": 53,
   "metadata": {
    "collapsed": false
   },
   "outputs": [
    {
     "name": "stdout",
     "output_type": "stream",
     "text": [
      "Number of tests:  617\n"
     ]
    }
   ],
   "source": [
    "print(\"Number of tests: \" , (test_data.shape[0]))\n",
    "# print(\"Correct tests: \" + str(correct))\n",
    "# accuracy = correct / len(sentences)\n",
    "# print(\"Naive Bayes Classifier accuracy: \" + str(accuracy))\n",
    "# print(\"Testing time (in seconds): \" + str(elapsed))"
   ]
  },
  {
   "cell_type": "code",
   "execution_count": 17,
   "metadata": {
    "collapsed": true
   },
   "outputs": [],
   "source": [
    "from sklearn.feature_extraction.text import TfidfTransformer\n",
    "transformer = TfidfTransformer(smooth_idf=False)"
   ]
  },
  {
   "cell_type": "code",
   "execution_count": 13,
   "metadata": {
    "collapsed": true
   },
   "outputs": [],
   "source": [
    "counts = [[3, 0, 1],\n",
    "...           [2, 0, 0],\n",
    "...           [3, 0, 0],\n",
    "...           [4, 0, 0],\n",
    "...           [3, 2, 0],\n",
    "...           [3, 0, 2]]"
   ]
  },
  {
   "cell_type": "code",
   "execution_count": 14,
   "metadata": {
    "collapsed": false
   },
   "outputs": [
    {
     "data": {
      "text/plain": [
       "[[3, 0, 1], [2, 0, 0], [3, 0, 0], [4, 0, 0], [3, 2, 0], [3, 0, 2]]"
      ]
     },
     "execution_count": 14,
     "metadata": {},
     "output_type": "execute_result"
    }
   ],
   "source": [
    "counts"
   ]
  },
  {
   "cell_type": "code",
   "execution_count": 19,
   "metadata": {
    "collapsed": false
   },
   "outputs": [],
   "source": [
    "tfidf = transformer.fit_transform(counts)"
   ]
  },
  {
   "cell_type": "code",
   "execution_count": 20,
   "metadata": {
    "collapsed": false
   },
   "outputs": [
    {
     "data": {
      "text/plain": [
       "array([[0.81940995, 0.        , 0.57320793],\n",
       "       [1.        , 0.        , 0.        ],\n",
       "       [1.        , 0.        , 0.        ],\n",
       "       [1.        , 0.        , 0.        ],\n",
       "       [0.47330339, 0.88089948, 0.        ],\n",
       "       [0.58149261, 0.        , 0.81355169]])"
      ]
     },
     "execution_count": 20,
     "metadata": {},
     "output_type": "execute_result"
    }
   ],
   "source": [
    "tfidf.toarray()"
   ]
  },
  {
   "cell_type": "code",
   "execution_count": null,
   "metadata": {
    "collapsed": true
   },
   "outputs": [],
   "source": []
  }
 ],
 "metadata": {
  "anaconda-cloud": {},
  "kernelspec": {
   "display_name": "Python [conda env:tensorflow]",
   "language": "python",
   "name": "conda-env-tensorflow-py"
  },
  "language_info": {
   "codemirror_mode": {
    "name": "ipython",
    "version": 3
   },
   "file_extension": ".py",
   "mimetype": "text/x-python",
   "name": "python",
   "nbconvert_exporter": "python",
   "pygments_lexer": "ipython3",
   "version": "3.5.4"
  }
 },
 "nbformat": 4,
 "nbformat_minor": 1
}
