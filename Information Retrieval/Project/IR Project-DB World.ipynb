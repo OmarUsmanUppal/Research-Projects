{
 "cells": [
  {
   "cell_type": "markdown",
   "metadata": {},
   "source": [
    "<h1>DBWorld</h1>"
   ]
  },
  {
   "cell_type": "markdown",
   "metadata": {},
   "source": [
    "<h2>Import Required Libraries</h2>"
   ]
  },
  {
   "cell_type": "code",
   "execution_count": 1,
   "metadata": {},
   "outputs": [],
   "source": [
    "#Import Required Libraries\n",
    "from scipy.io import loadmat\n",
    "import pandas as pd, numpy as np\n",
    "from sklearn.naive_bayes import BernoulliNB\n",
    "from sklearn.neighbors import KNeighborsClassifier\n",
    "from sklearn.neighbors import NearestCentroid\n",
    "from sklearn.metrics import f1_score, accuracy_score, confusion_matrix\n",
    "from sklearn.model_selection import train_test_split"
   ]
  },
  {
   "cell_type": "markdown",
   "metadata": {},
   "source": [
    "<h2>Function to Calculate Confusion Matrix</h2>"
   ]
  },
  {
   "cell_type": "code",
   "execution_count": 76,
   "metadata": {},
   "outputs": [],
   "source": [
    "def plot_confusion_matrix(cm,\n",
    "                          target_names,\n",
    "                          title='Confusion matrix',\n",
    "                          cmap=None,\n",
    "                          normalize=True):\n",
    "    \"\"\"\n",
    "    given a sklearn confusion matrix (cm), make a nice plot\n",
    "\n",
    "    Arguments\n",
    "    ---------\n",
    "    cm:           confusion matrix from sklearn.metrics.confusion_matrix\n",
    "\n",
    "    target_names: given classification classes such as [0, 1, 2]\n",
    "                  the class names, for example: ['high', 'medium', 'low']\n",
    "\n",
    "    title:        the text to display at the top of the matrix\n",
    "\n",
    "    cmap:         the gradient of the values displayed from matplotlib.pyplot.cm\n",
    "                  see http://matplotlib.org/examples/color/colormaps_reference.html\n",
    "                  plt.get_cmap('jet') or plt.cm.Blues\n",
    "\n",
    "    normalize:    If False, plot the raw numbers\n",
    "                  If True, plot the proportions\n",
    "\n",
    "    Usage\n",
    "    -----\n",
    "    plot_confusion_matrix(cm           = cm,                  # confusion matrix created by\n",
    "                                                              # sklearn.metrics.confusion_matrix\n",
    "                          normalize    = True,                # show proportions\n",
    "                          target_names = y_labels_vals,       # list of names of the classes\n",
    "                          title        = best_estimator_name) # title of graph\n",
    "\n",
    "    Citiation\n",
    "    ---------\n",
    "    http://scikit-learn.org/stable/auto_examples/model_selection/plot_confusion_matrix.html\n",
    "\n",
    "    \"\"\"\n",
    "    import matplotlib.pyplot as plt\n",
    "    import numpy as np\n",
    "    import itertools\n",
    "\n",
    "    accuracy = np.trace(cm) / float(np.sum(cm))\n",
    "    misclass = 1 - accuracy\n",
    "\n",
    "    if cmap is None:\n",
    "        cmap = plt.get_cmap('Blues')\n",
    "\n",
    "    plt.figure(figsize=(8, 6))\n",
    "    plt.imshow(cm, interpolation='nearest', cmap=cmap)\n",
    "    plt.title(title)\n",
    "    plt.colorbar()\n",
    "\n",
    "    if target_names is not None:\n",
    "        tick_marks = np.arange(len(target_names))\n",
    "        plt.xticks(tick_marks, target_names, rotation=45)\n",
    "        plt.yticks(tick_marks, target_names)\n",
    "\n",
    "    if normalize:\n",
    "        cm = cm.astype('float') / cm.sum(axis=1)[:, np.newaxis]\n",
    "\n",
    "\n",
    "    thresh = cm.max() / 1.5 if normalize else cm.max() / 2\n",
    "    for i, j in itertools.product(range(cm.shape[0]), range(cm.shape[1])):\n",
    "        if normalize:\n",
    "            plt.text(j, i, \"{:0.4f}\".format(cm[i, j]),\n",
    "                     horizontalalignment=\"center\",\n",
    "                     color=\"white\" if cm[i, j] > thresh else \"black\")\n",
    "        else:\n",
    "            plt.text(j, i, \"{:,}\".format(cm[i, j]),\n",
    "                     horizontalalignment=\"center\",\n",
    "                     color=\"white\" if cm[i, j] > thresh else \"black\")\n",
    "\n",
    "\n",
    "    plt.tight_layout()\n",
    "    plt.ylabel('True label')\n",
    "    plt.xlabel('Predicted label\\naccuracy={:0.4f}; misclass={:0.4f}'.format(accuracy, misclass))\n",
    "    plt.show()"
   ]
  },
  {
   "cell_type": "markdown",
   "metadata": {},
   "source": [
    "<h2>Load Body Data</h2>"
   ]
  },
  {
   "cell_type": "code",
   "execution_count": 2,
   "metadata": {},
   "outputs": [],
   "source": [
    "#Load email body data from mat file\n",
    "data=loadmat('./dbworld/MATLAB/dbworld_bodies.mat')\n",
    "# Load Inputs and and Labels into separate Pandas Dataframes\n",
    "vectors=pd.DataFrame(data['inputs'])\n",
    "labels=pd.DataFrame(data['labels'])"
   ]
  },
  {
   "cell_type": "code",
   "execution_count": 53,
   "metadata": {},
   "outputs": [
    {
     "data": {
      "text/html": [
       "<div>\n",
       "<style scoped>\n",
       "    .dataframe tbody tr th:only-of-type {\n",
       "        vertical-align: middle;\n",
       "    }\n",
       "\n",
       "    .dataframe tbody tr th {\n",
       "        vertical-align: top;\n",
       "    }\n",
       "\n",
       "    .dataframe thead th {\n",
       "        text-align: right;\n",
       "    }\n",
       "</style>\n",
       "<table border=\"1\" class=\"dataframe\">\n",
       "  <thead>\n",
       "    <tr style=\"text-align: right;\">\n",
       "      <th></th>\n",
       "      <th>0</th>\n",
       "      <th>1</th>\n",
       "      <th>2</th>\n",
       "      <th>3</th>\n",
       "      <th>4</th>\n",
       "      <th>5</th>\n",
       "      <th>6</th>\n",
       "      <th>7</th>\n",
       "      <th>8</th>\n",
       "      <th>9</th>\n",
       "      <th>...</th>\n",
       "      <th>4692</th>\n",
       "      <th>4693</th>\n",
       "      <th>4694</th>\n",
       "      <th>4695</th>\n",
       "      <th>4696</th>\n",
       "      <th>4697</th>\n",
       "      <th>4698</th>\n",
       "      <th>4699</th>\n",
       "      <th>4700</th>\n",
       "      <th>4701</th>\n",
       "    </tr>\n",
       "  </thead>\n",
       "  <tbody>\n",
       "    <tr>\n",
       "      <th>0</th>\n",
       "      <td>0</td>\n",
       "      <td>0</td>\n",
       "      <td>0</td>\n",
       "      <td>0</td>\n",
       "      <td>0</td>\n",
       "      <td>0</td>\n",
       "      <td>0</td>\n",
       "      <td>0</td>\n",
       "      <td>0</td>\n",
       "      <td>0</td>\n",
       "      <td>...</td>\n",
       "      <td>0</td>\n",
       "      <td>0</td>\n",
       "      <td>0</td>\n",
       "      <td>0</td>\n",
       "      <td>0</td>\n",
       "      <td>0</td>\n",
       "      <td>0</td>\n",
       "      <td>0</td>\n",
       "      <td>0</td>\n",
       "      <td>0</td>\n",
       "    </tr>\n",
       "    <tr>\n",
       "      <th>1</th>\n",
       "      <td>0</td>\n",
       "      <td>0</td>\n",
       "      <td>0</td>\n",
       "      <td>0</td>\n",
       "      <td>0</td>\n",
       "      <td>0</td>\n",
       "      <td>0</td>\n",
       "      <td>0</td>\n",
       "      <td>0</td>\n",
       "      <td>0</td>\n",
       "      <td>...</td>\n",
       "      <td>0</td>\n",
       "      <td>0</td>\n",
       "      <td>1</td>\n",
       "      <td>0</td>\n",
       "      <td>0</td>\n",
       "      <td>0</td>\n",
       "      <td>0</td>\n",
       "      <td>0</td>\n",
       "      <td>0</td>\n",
       "      <td>0</td>\n",
       "    </tr>\n",
       "    <tr>\n",
       "      <th>2</th>\n",
       "      <td>0</td>\n",
       "      <td>0</td>\n",
       "      <td>0</td>\n",
       "      <td>0</td>\n",
       "      <td>0</td>\n",
       "      <td>0</td>\n",
       "      <td>0</td>\n",
       "      <td>0</td>\n",
       "      <td>0</td>\n",
       "      <td>0</td>\n",
       "      <td>...</td>\n",
       "      <td>0</td>\n",
       "      <td>0</td>\n",
       "      <td>0</td>\n",
       "      <td>0</td>\n",
       "      <td>0</td>\n",
       "      <td>0</td>\n",
       "      <td>0</td>\n",
       "      <td>0</td>\n",
       "      <td>0</td>\n",
       "      <td>0</td>\n",
       "    </tr>\n",
       "    <tr>\n",
       "      <th>3</th>\n",
       "      <td>0</td>\n",
       "      <td>0</td>\n",
       "      <td>0</td>\n",
       "      <td>0</td>\n",
       "      <td>0</td>\n",
       "      <td>0</td>\n",
       "      <td>0</td>\n",
       "      <td>0</td>\n",
       "      <td>0</td>\n",
       "      <td>0</td>\n",
       "      <td>...</td>\n",
       "      <td>0</td>\n",
       "      <td>0</td>\n",
       "      <td>0</td>\n",
       "      <td>0</td>\n",
       "      <td>0</td>\n",
       "      <td>0</td>\n",
       "      <td>0</td>\n",
       "      <td>0</td>\n",
       "      <td>0</td>\n",
       "      <td>0</td>\n",
       "    </tr>\n",
       "    <tr>\n",
       "      <th>4</th>\n",
       "      <td>0</td>\n",
       "      <td>0</td>\n",
       "      <td>0</td>\n",
       "      <td>0</td>\n",
       "      <td>0</td>\n",
       "      <td>0</td>\n",
       "      <td>0</td>\n",
       "      <td>0</td>\n",
       "      <td>0</td>\n",
       "      <td>0</td>\n",
       "      <td>...</td>\n",
       "      <td>0</td>\n",
       "      <td>0</td>\n",
       "      <td>0</td>\n",
       "      <td>0</td>\n",
       "      <td>0</td>\n",
       "      <td>0</td>\n",
       "      <td>0</td>\n",
       "      <td>0</td>\n",
       "      <td>0</td>\n",
       "      <td>0</td>\n",
       "    </tr>\n",
       "  </tbody>\n",
       "</table>\n",
       "<p>5 rows × 4702 columns</p>\n",
       "</div>"
      ],
      "text/plain": [
       "   0     1     2     3     4     5     6     7     8     9     ...   4692  \\\n",
       "0     0     0     0     0     0     0     0     0     0     0  ...      0   \n",
       "1     0     0     0     0     0     0     0     0     0     0  ...      0   \n",
       "2     0     0     0     0     0     0     0     0     0     0  ...      0   \n",
       "3     0     0     0     0     0     0     0     0     0     0  ...      0   \n",
       "4     0     0     0     0     0     0     0     0     0     0  ...      0   \n",
       "\n",
       "   4693  4694  4695  4696  4697  4698  4699  4700  4701  \n",
       "0     0     0     0     0     0     0     0     0     0  \n",
       "1     0     1     0     0     0     0     0     0     0  \n",
       "2     0     0     0     0     0     0     0     0     0  \n",
       "3     0     0     0     0     0     0     0     0     0  \n",
       "4     0     0     0     0     0     0     0     0     0  \n",
       "\n",
       "[5 rows x 4702 columns]"
      ]
     },
     "execution_count": 53,
     "metadata": {},
     "output_type": "execute_result"
    }
   ],
   "source": [
    "#See a small portion of the input data just to get a look and Feel\n",
    "vectors.head()"
   ]
  },
  {
   "cell_type": "code",
   "execution_count": 54,
   "metadata": {},
   "outputs": [
    {
     "data": {
      "text/html": [
       "<div>\n",
       "<style scoped>\n",
       "    .dataframe tbody tr th:only-of-type {\n",
       "        vertical-align: middle;\n",
       "    }\n",
       "\n",
       "    .dataframe tbody tr th {\n",
       "        vertical-align: top;\n",
       "    }\n",
       "\n",
       "    .dataframe thead th {\n",
       "        text-align: right;\n",
       "    }\n",
       "</style>\n",
       "<table border=\"1\" class=\"dataframe\">\n",
       "  <thead>\n",
       "    <tr style=\"text-align: right;\">\n",
       "      <th></th>\n",
       "      <th>0</th>\n",
       "    </tr>\n",
       "  </thead>\n",
       "  <tbody>\n",
       "    <tr>\n",
       "      <th>0</th>\n",
       "      <td>0</td>\n",
       "    </tr>\n",
       "    <tr>\n",
       "      <th>1</th>\n",
       "      <td>0</td>\n",
       "    </tr>\n",
       "    <tr>\n",
       "      <th>2</th>\n",
       "      <td>0</td>\n",
       "    </tr>\n",
       "    <tr>\n",
       "      <th>3</th>\n",
       "      <td>0</td>\n",
       "    </tr>\n",
       "    <tr>\n",
       "      <th>4</th>\n",
       "      <td>0</td>\n",
       "    </tr>\n",
       "  </tbody>\n",
       "</table>\n",
       "</div>"
      ],
      "text/plain": [
       "   0\n",
       "0  0\n",
       "1  0\n",
       "2  0\n",
       "3  0\n",
       "4  0"
      ]
     },
     "execution_count": 54,
     "metadata": {},
     "output_type": "execute_result"
    }
   ],
   "source": [
    "#See a small portion of the label data just to get a look and Feel\n",
    "labels.head()"
   ]
  },
  {
   "cell_type": "markdown",
   "metadata": {},
   "source": [
    "<h2>Calculate IDF and Multiply to Get TF-IDF</h2>"
   ]
  },
  {
   "cell_type": "code",
   "execution_count": 55,
   "metadata": {},
   "outputs": [],
   "source": [
    "df = np.count_nonzero(vectors,axis=0)\n",
    "idf=np.log10(vectors.shape[0]/df)\n",
    "vectors=vectors*idf"
   ]
  },
  {
   "cell_type": "markdown",
   "metadata": {},
   "source": [
    "<h2>Prepare Training and Test Datasets</h2>"
   ]
  },
  {
   "cell_type": "code",
   "execution_count": 56,
   "metadata": {},
   "outputs": [],
   "source": [
    "#Split data into training and test data sets\n",
    "vectors_train, vectors_test, labels_train, labels_test = train_test_split(vectors, labels,stratify=labels,test_size=0.25)"
   ]
  },
  {
   "cell_type": "markdown",
   "metadata": {},
   "source": [
    "<h2>Naive Bayes</h2>"
   ]
  },
  {
   "cell_type": "code",
   "execution_count": 57,
   "metadata": {},
   "outputs": [
    {
     "name": "stderr",
     "output_type": "stream",
     "text": [
      "C:\\Users\\dell\\Anaconda3\\lib\\site-packages\\sklearn\\utils\\validation.py:578: DataConversionWarning: A column-vector y was passed when a 1d array was expected. Please change the shape of y to (n_samples, ), for example using ravel().\n",
      "  y = column_or_1d(y, warn=True)\n"
     ]
    }
   ],
   "source": [
    "#Get an instance of the Naive Bayes CLassifier\n",
    "clf = BernoulliNB()\n",
    "#Fit the classifier on our data\n",
    "clf.fit(X=vectors_train,y=labels_train)\n",
    "# Get predictions on training and test datasets separately\n",
    "pred_test_nb = clf.predict(vectors_test)\n",
    "pred_train_nb= clf.predict(vectors_train)"
   ]
  },
  {
   "cell_type": "markdown",
   "metadata": {},
   "source": [
    "<h3>Model Evaluation</h3>"
   ]
  },
  {
   "cell_type": "code",
   "execution_count": 58,
   "metadata": {},
   "outputs": [
    {
     "name": "stdout",
     "output_type": "stream",
     "text": [
      "Micro F1 Score (Bodies)-Training Data:  0.8958333333333334\n",
      "Macro F1 Score (Bodies)-Training Data:  0.8920377867746289\n",
      "Accuracy (Bodies)-Training Data:  0.8958333333333334\n",
      "Micro F1 Score (Bodies)-Test Data:  0.75\n",
      "Macro F1 Score (Bodies)-Test Data:  0.709090909090909\n",
      "Accuracy (Bodies)-Test Data:  0.75\n"
     ]
    }
   ],
   "source": [
    "# Calculate F1 Score and Accuracy on Training and Test Datasets Separaltely\n",
    "print('Micro F1 Score (Bodies)-Training Data: ',f1_score(y_true=labels_train, y_pred = pred_train_nb, average='micro'))\n",
    "print('Macro F1 Score (Bodies)-Training Data: ',f1_score(y_true=labels_train, y_pred = pred_train_nb, average='macro'))\n",
    "print('Accuracy (Bodies)-Training Data: ',accuracy_score(y_true=labels_train, y_pred = pred_train_nb))\n",
    "\n",
    "print('Micro F1 Score (Bodies)-Test Data: ',f1_score(y_true=labels_test, y_pred = pred_test_nb, average='micro'))\n",
    "print('Macro F1 Score (Bodies)-Test Data: ',f1_score(y_true=labels_test, y_pred = pred_test_nb, average='macro'))\n",
    "print('Accuracy (Bodies)-Test Data: ',accuracy_score(y_true=labels_test, y_pred = pred_test_nb))"
   ]
  },
  {
   "cell_type": "markdown",
   "metadata": {},
   "source": [
    "<h3> Confusion Matrix</h3>"
   ]
  },
  {
   "cell_type": "code",
   "execution_count": 82,
   "metadata": {},
   "outputs": [
    {
     "data": {
      "image/png": "[encoded data removed]",
      "text/plain": [
       "<matplotlib.figure.Figure at 0x1d6d89aae80>"
      ]
     },
     "metadata": {},
     "output_type": "display_data"
    }
   ],
   "source": [
    "nb_conf_matrix=confusion_matrix(labels_test,pred_test_nb)\n",
    "plot_confusion_matrix(cm           = nb_conf_matrix, \n",
    "                      normalize    = False,\n",
    "                      target_names = set(labels_test),\n",
    "                      title        = \"Naive Bayes Confusion Matrix\")"
   ]
  },
  {
   "cell_type": "markdown",
   "metadata": {},
   "source": [
    "<h2>k Nearest Neighbors (k=3)</h2>"
   ]
  },
  {
   "cell_type": "code",
   "execution_count": 59,
   "metadata": {},
   "outputs": [
    {
     "name": "stderr",
     "output_type": "stream",
     "text": [
      "C:\\Users\\dell\\Anaconda3\\lib\\site-packages\\ipykernel_launcher.py:4: DataConversionWarning: A column-vector y was passed when a 1d array was expected. Please change the shape of y to (n_samples, ), for example using ravel().\n",
      "  after removing the cwd from sys.path.\n"
     ]
    }
   ],
   "source": [
    "#Get an instance of the kNN CLassifier and set k=3\n",
    "clf = KNeighborsClassifier(n_neighbors=3)\n",
    "#Fit the classifier on our data\n",
    "clf.fit(X=vectors_train,y=labels_train)\n",
    "# Get predictions on training and test datasets separately\n",
    "pred_test_knn = clf.predict(vectors_test)\n",
    "pred_train_knn = clf.predict(vectors_train)"
   ]
  },
  {
   "cell_type": "markdown",
   "metadata": {},
   "source": [
    "<h3>Model Evaluation</h3>"
   ]
  },
  {
   "cell_type": "code",
   "execution_count": 60,
   "metadata": {},
   "outputs": [
    {
     "name": "stdout",
     "output_type": "stream",
     "text": [
      "Micro F1 Score (Bodies)-Training Data:  0.5625\n",
      "Macro F1 Score (Bodies)-Training Data:  0.39964264443120906\n",
      "Accuracy (Bodies)-Training Data:  0.5625\n",
      "Micro F1 Score (Bodies)-Test Data:  0.5625\n",
      "Macro F1 Score (Bodies)-Test Data:  0.36\n",
      "Accuracy (Bodies)-Test Data:  0.5625\n"
     ]
    },
    {
     "name": "stderr",
     "output_type": "stream",
     "text": [
      "C:\\Users\\dell\\Anaconda3\\lib\\site-packages\\sklearn\\metrics\\classification.py:1135: UndefinedMetricWarning: F-score is ill-defined and being set to 0.0 in labels with no predicted samples.\n",
      "  'precision', 'predicted', average, warn_for)\n"
     ]
    }
   ],
   "source": [
    "# Calculate F1 Score and Accuracy on Training and Test Datasets Separaltely\n",
    "print('Micro F1 Score (Bodies)-Training Data: ',f1_score(y_true=labels_train, y_pred = pred_train_knn, average='micro'))\n",
    "print('Macro F1 Score (Bodies)-Training Data: ',f1_score(y_true=labels_train, y_pred = pred_train_knn, average='macro'))\n",
    "print('Accuracy (Bodies)-Training Data: ',clf.score(X = vectors_train,y =labels_train))\n",
    "\n",
    "print('Micro F1 Score (Bodies)-Test Data: ',f1_score(y_true=labels_test, y_pred = pred_test_knn, average='micro'))\n",
    "print('Macro F1 Score (Bodies)-Test Data: ',f1_score(y_true=labels_test, y_pred = pred_test_knn, average='macro'))\n",
    "print('Accuracy (Bodies)-Test Data: ',clf.score(X = vectors_test,y =labels_test))"
   ]
  },
  {
   "cell_type": "markdown",
   "metadata": {},
   "source": [
    "<h3> Confusion Matrix</h3>"
   ]
  },
  {
   "cell_type": "code",
   "execution_count": 81,
   "metadata": {},
   "outputs": [
    {
     "data": {
      "image/png": "[encoded data removed]",
      "text/plain": [
       "<matplotlib.figure.Figure at 0x1d6d8665860>"
      ]
     },
     "metadata": {},
     "output_type": "display_data"
    }
   ],
   "source": [
    "knn_conf_matrix=confusion_matrix(labels_test,pred_test_knn)\n",
    "plot_confusion_matrix(cm           = knn_conf_matrix, \n",
    "                      normalize    = False,\n",
    "                      target_names = set(labels_test),\n",
    "                      title        = \"kNN (k=3) Confusion Matrix\")"
   ]
  },
  {
   "cell_type": "markdown",
   "metadata": {},
   "source": [
    "<h2>k Nearest Neighbors (k=5)</h2>"
   ]
  },
  {
   "cell_type": "code",
   "execution_count": 59,
   "metadata": {},
   "outputs": [
    {
     "name": "stderr",
     "output_type": "stream",
     "text": [
      "C:\\Users\\dell\\Anaconda3\\lib\\site-packages\\ipykernel_launcher.py:4: DataConversionWarning: A column-vector y was passed when a 1d array was expected. Please change the shape of y to (n_samples, ), for example using ravel().\n",
      "  after removing the cwd from sys.path.\n"
     ]
    }
   ],
   "source": [
    "#Get an instance of the kNN CLassifier and set k=5\n",
    "clf = KNeighborsClassifier(n_neighbors=5)\n",
    "#Fit the classifier on our data\n",
    "clf.fit(X=vectors_train,y=labels_train)\n",
    "# Get predictions on training and test datasets separately\n",
    "pred_test_knn = clf.predict(vectors_test)\n",
    "pred_train_knn = clf.predict(vectors_train)"
   ]
  },
  {
   "cell_type": "markdown",
   "metadata": {},
   "source": [
    "<h3>Model Evaluation</h3>"
   ]
  },
  {
   "cell_type": "code",
   "execution_count": 60,
   "metadata": {},
   "outputs": [
    {
     "name": "stdout",
     "output_type": "stream",
     "text": [
      "Micro F1 Score (Bodies)-Training Data:  0.5625\n",
      "Macro F1 Score (Bodies)-Training Data:  0.39964264443120906\n",
      "Accuracy (Bodies)-Training Data:  0.5625\n",
      "Micro F1 Score (Bodies)-Test Data:  0.5625\n",
      "Macro F1 Score (Bodies)-Test Data:  0.36\n",
      "Accuracy (Bodies)-Test Data:  0.5625\n"
     ]
    },
    {
     "name": "stderr",
     "output_type": "stream",
     "text": [
      "C:\\Users\\dell\\Anaconda3\\lib\\site-packages\\sklearn\\metrics\\classification.py:1135: UndefinedMetricWarning: F-score is ill-defined and being set to 0.0 in labels with no predicted samples.\n",
      "  'precision', 'predicted', average, warn_for)\n"
     ]
    }
   ],
   "source": [
    "# Calculate F1 Score and Accuracy on Training and Test Datasets Separaltely\n",
    "print('Micro F1 Score (Bodies)-Training Data: ',f1_score(y_true=labels_train, y_pred = pred_train_knn, average='micro'))\n",
    "print('Macro F1 Score (Bodies)-Training Data: ',f1_score(y_true=labels_train, y_pred = pred_train_knn, average='macro'))\n",
    "print('Accuracy (Bodies)-Training Data: ',clf.score(X = vectors_train,y =labels_train))\n",
    "\n",
    "print('Micro F1 Score (Bodies)-Test Data: ',f1_score(y_true=labels_test, y_pred = pred_test_knn, average='micro'))\n",
    "print('Macro F1 Score (Bodies)-Test Data: ',f1_score(y_true=labels_test, y_pred = pred_test_knn, average='macro'))\n",
    "print('Accuracy (Bodies)-Test Data: ',clf.score(X = vectors_test,y =labels_test))"
   ]
  },
  {
   "cell_type": "markdown",
   "metadata": {},
   "source": [
    "<h3> Confusion Matrix</h3>"
   ]
  },
  {
   "cell_type": "code",
   "execution_count": 81,
   "metadata": {},
   "outputs": [
    {
     "data": {
      "image/png": "[encoded data removed]",
      "text/plain": [
       "<matplotlib.figure.Figure at 0x1d6d8665860>"
      ]
     },
     "metadata": {},
     "output_type": "display_data"
    }
   ],
   "source": [
    "knn_conf_matrix=confusion_matrix(labels_test,pred_test_knn)\n",
    "plot_confusion_matrix(cm           = knn_conf_matrix, \n",
    "                      normalize    = False,\n",
    "                      target_names = set(labels_test),\n",
    "                      title        = \"kNN (k=5) Confusion Matrix\")"
   ]
  },
  {
   "cell_type": "markdown",
   "metadata": {},
   "source": [
    "<h2>k Nearest Neighbors (k=7)</h2>"
   ]
  },
  {
   "cell_type": "code",
   "execution_count": 3,
   "metadata": {},
   "outputs": [
    {
     "ename": "NameError",
     "evalue": "name 'vectors_train' is not defined",
     "output_type": "error",
     "traceback": [
      "\u001b[1;31m---------------------------------------------------------------------------\u001b[0m",
      "\u001b[1;31mNameError\u001b[0m                                 Traceback (most recent call last)",
      "\u001b[1;32m<ipython-input-3-b3c419e4e6ff>\u001b[0m in \u001b[0;36m<module>\u001b[1;34m()\u001b[0m\n\u001b[0;32m      2\u001b[0m \u001b[0mclf\u001b[0m \u001b[1;33m=\u001b[0m \u001b[0mKNeighborsClassifier\u001b[0m\u001b[1;33m(\u001b[0m\u001b[0mn_neighbors\u001b[0m\u001b[1;33m=\u001b[0m\u001b[1;36m7\u001b[0m\u001b[1;33m)\u001b[0m\u001b[1;33m\u001b[0m\u001b[0m\n\u001b[0;32m      3\u001b[0m \u001b[1;31m#Fit the classifier on our data\u001b[0m\u001b[1;33m\u001b[0m\u001b[1;33m\u001b[0m\u001b[0m\n\u001b[1;32m----> 4\u001b[1;33m \u001b[0mclf\u001b[0m\u001b[1;33m.\u001b[0m\u001b[0mfit\u001b[0m\u001b[1;33m(\u001b[0m\u001b[0mX\u001b[0m\u001b[1;33m=\u001b[0m\u001b[0mvectors_train\u001b[0m\u001b[1;33m,\u001b[0m\u001b[0my\u001b[0m\u001b[1;33m=\u001b[0m\u001b[0mlabels_train\u001b[0m\u001b[1;33m)\u001b[0m\u001b[1;33m\u001b[0m\u001b[0m\n\u001b[0m\u001b[0;32m      5\u001b[0m \u001b[1;31m# Get predictions on training and test datasets separately\u001b[0m\u001b[1;33m\u001b[0m\u001b[1;33m\u001b[0m\u001b[0m\n\u001b[0;32m      6\u001b[0m \u001b[0mpred_test_knn\u001b[0m \u001b[1;33m=\u001b[0m \u001b[0mclf\u001b[0m\u001b[1;33m.\u001b[0m\u001b[0mpredict\u001b[0m\u001b[1;33m(\u001b[0m\u001b[0mvectors_test\u001b[0m\u001b[1;33m)\u001b[0m\u001b[1;33m\u001b[0m\u001b[0m\n",
      "\u001b[1;31mNameError\u001b[0m: name 'vectors_train' is not defined"
     ]
    }
   ],
   "source": [
    "#Get an instance of the kNN CLassifier and set k=7\n",
    "clf = KNeighborsClassifier(n_neighbors=7)\n",
    "#Fit the classifier on our data\n",
    "clf.fit(X=vectors_train,y=labels_train)\n",
    "# Get predictions on training and test datasets separately\n",
    "pred_test_knn = clf.predict(vectors_test)\n",
    "pred_train_knn = clf.predict(vectors_train)"
   ]
  },
  {
   "cell_type": "markdown",
   "metadata": {},
   "source": [
    "<h3>Model Evaluation</h3>"
   ]
  },
  {
   "cell_type": "code",
   "execution_count": 60,
   "metadata": {},
   "outputs": [
    {
     "name": "stdout",
     "output_type": "stream",
     "text": [
      "Micro F1 Score (Bodies)-Training Data:  0.5625\n",
      "Macro F1 Score (Bodies)-Training Data:  0.39964264443120906\n",
      "Accuracy (Bodies)-Training Data:  0.5625\n",
      "Micro F1 Score (Bodies)-Test Data:  0.5625\n",
      "Macro F1 Score (Bodies)-Test Data:  0.36\n",
      "Accuracy (Bodies)-Test Data:  0.5625\n"
     ]
    },
    {
     "name": "stderr",
     "output_type": "stream",
     "text": [
      "C:\\Users\\dell\\Anaconda3\\lib\\site-packages\\sklearn\\metrics\\classification.py:1135: UndefinedMetricWarning: F-score is ill-defined and being set to 0.0 in labels with no predicted samples.\n",
      "  'precision', 'predicted', average, warn_for)\n"
     ]
    }
   ],
   "source": [
    "# Calculate F1 Score and Accuracy on Training and Test Datasets Separaltely\n",
    "print('Micro F1 Score (Bodies)-Training Data: ',f1_score(y_true=labels_train, y_pred = pred_train_knn, average='micro'))\n",
    "print('Macro F1 Score (Bodies)-Training Data: ',f1_score(y_true=labels_train, y_pred = pred_train_knn, average='macro'))\n",
    "print('Accuracy (Bodies)-Training Data: ',clf.score(X = vectors_train,y =labels_train))\n",
    "\n",
    "print('Micro F1 Score (Bodies)-Test Data: ',f1_score(y_true=labels_test, y_pred = pred_test_knn, average='micro'))\n",
    "print('Macro F1 Score (Bodies)-Test Data: ',f1_score(y_true=labels_test, y_pred = pred_test_knn, average='macro'))\n",
    "print('Accuracy (Bodies)-Test Data: ',clf.score(X = vectors_test,y =labels_test))"
   ]
  },
  {
   "cell_type": "markdown",
   "metadata": {},
   "source": [
    "<h3> Confusion Matrix</h3>"
   ]
  },
  {
   "cell_type": "code",
   "execution_count": 81,
   "metadata": {},
   "outputs": [
    {
     "data": {
      "image/png": "[encoded data removed]",
      "text/plain": [
       "<matplotlib.figure.Figure at 0x1d6d8665860>"
      ]
     },
     "metadata": {},
     "output_type": "display_data"
    }
   ],
   "source": [
    "knn_conf_matrix=confusion_matrix(labels_test,pred_test_knn)\n",
    "plot_confusion_matrix(cm           = knn_conf_matrix, \n",
    "                      normalize    = False,\n",
    "                      target_names = set(labels_test),\n",
    "                      title        = \"kNN (k=7) Confusion Matrix\")"
   ]
  },
  {
   "cell_type": "markdown",
   "metadata": {},
   "source": [
    "<h2>Rocchhio</h2>"
   ]
  },
  {
   "cell_type": "code",
   "execution_count": 61,
   "metadata": {},
   "outputs": [
    {
     "name": "stderr",
     "output_type": "stream",
     "text": [
      "C:\\Users\\dell\\Anaconda3\\lib\\site-packages\\sklearn\\utils\\validation.py:578: DataConversionWarning: A column-vector y was passed when a 1d array was expected. Please change the shape of y to (n_samples, ), for example using ravel().\n",
      "  y = column_or_1d(y, warn=True)\n"
     ]
    }
   ],
   "source": [
    "#Get an instance of the Rocchhio CLassifier\n",
    "clf = NearestCentroid()\n",
    "#Fit the classifier on our data\n",
    "clf.fit(X=vectors_train,y=labels_train)\n",
    "# Get predictions on training and test datasets separately\n",
    "pred_test_roc = clf.predict(vectors_test)\n",
    "pred_train_roc= clf.predict(vectors_train)"
   ]
  },
  {
   "cell_type": "markdown",
   "metadata": {},
   "source": [
    "<h3>Model Evaluation</h3>"
   ]
  },
  {
   "cell_type": "code",
   "execution_count": 62,
   "metadata": {},
   "outputs": [
    {
     "name": "stdout",
     "output_type": "stream",
     "text": [
      "Micro F1 Score (Bodies)-Training Data:  0.9583333333333334\n",
      "Macro F1 Score (Bodies)-Training Data:  0.9576719576719577\n",
      "Accuracy (Bodies)-Training Data:  0.9583333333333334\n",
      "Micro F1 Score (Bodies)-Test Data:  0.75\n",
      "Macro F1 Score (Bodies)-Test Data:  0.709090909090909\n",
      "Accuracy (Bodies)-Test Data:  0.9583333333333334\n"
     ]
    }
   ],
   "source": [
    "# Calculate F1 Score and Accuracy on Training and Test Datasets Separaltely\n",
    "print('Micro F1 Score (Bodies)-Training Data: ',f1_score(y_true=labels_train, y_pred = pred_train_roc, average='micro'))\n",
    "print('Macro F1 Score (Bodies)-Training Data: ',f1_score(y_true=labels_train, y_pred = pred_train_roc, average='macro'))\n",
    "print('Accuracy (Bodies)-Training Data: ',accuracy_score(y_true=labels_train, y_pred = pred_train_roc))\n",
    "\n",
    "print('Micro F1 Score (Bodies)-Test Data: ',f1_score(y_true=labels_test, y_pred = pred_test_roc, average='micro'))\n",
    "print('Macro F1 Score (Bodies)-Test Data: ',f1_score(y_true=labels_test, y_pred = pred_test_roc, average='macro'))\n",
    "print('Accuracy (Bodies)-Test Data: ',accuracy_score(y_true=labels_train, y_pred = pred_train_roc))"
   ]
  },
  {
   "cell_type": "markdown",
   "metadata": {},
   "source": [
    "<h3> Confusion Matrix</h3>"
   ]
  },
  {
   "cell_type": "code",
   "execution_count": 83,
   "metadata": {},
   "outputs": [
    {
     "data": {
      "image/png": "[encoded data removed]",
      "text/plain": [
       "<matplotlib.figure.Figure at 0x1d6d8a6add8>"
      ]
     },
     "metadata": {},
     "output_type": "display_data"
    }
   ],
   "source": [
    "roc_conf_matrix=confusion_matrix(labels_test,pred_test_roc)\n",
    "plot_confusion_matrix(cm           = roc_conf_matrix, \n",
    "                      normalize    = False,\n",
    "                      target_names = set(labels_test),\n",
    "                      title        = \"Rocchhio Confusion Matrix\")"
   ]
  },
  {
   "cell_type": "markdown",
   "metadata": {},
   "source": [
    "<h2>Load Subjects Data</h2>"
   ]
  },
  {
   "cell_type": "code",
   "execution_count": 63,
   "metadata": {},
   "outputs": [],
   "source": [
    "#Load email subject data from mat file\n",
    "subject_data=loadmat('./dbworld/MATLAB/dbworld_subjects.mat')\n",
    "# Load Inputs and and Labels into separate Pandas Dataframes\n",
    "vectors_subjects=pd.DataFrame(subject_data['inputs'])\n",
    "labels_subjects=pd.DataFrame(subject_data['labels'])"
   ]
  },
  {
   "cell_type": "markdown",
   "metadata": {},
   "source": [
    "<h2>Calculate IDF and Multiply to Get TF-IDF</h2>"
   ]
  },
  {
   "cell_type": "code",
   "execution_count": 64,
   "metadata": {},
   "outputs": [],
   "source": [
    "df = np.count_nonzero(vectors_subjects,axis=0)\n",
    "idf=np.log10(vectors_subjects.shape[0]/df)\n",
    "vectors_subjects=vectors_subjects*idf"
   ]
  },
  {
   "cell_type": "markdown",
   "metadata": {},
   "source": [
    "<h2>Split into Training and Test Sets</h2>"
   ]
  },
  {
   "cell_type": "code",
   "execution_count": 65,
   "metadata": {},
   "outputs": [],
   "source": [
    "#Split data into training and test data sets\n",
    "vectors_train_subjects, vectors_test_subjects, labels_train_subjects, labels_test_subjects = train_test_split(vectors_subjects, labels_subjects,stratify=labels_subjects,test_size=0.25)"
   ]
  },
  {
   "cell_type": "markdown",
   "metadata": {},
   "source": [
    "<h2>Naive Bayes</h2>"
   ]
  },
  {
   "cell_type": "code",
   "execution_count": 67,
   "metadata": {},
   "outputs": [
    {
     "name": "stderr",
     "output_type": "stream",
     "text": [
      "C:\\Users\\dell\\Anaconda3\\lib\\site-packages\\sklearn\\utils\\validation.py:578: DataConversionWarning: A column-vector y was passed when a 1d array was expected. Please change the shape of y to (n_samples, ), for example using ravel().\n",
      "  y = column_or_1d(y, warn=True)\n"
     ]
    }
   ],
   "source": [
    "#Get an instance of the Naive Bayes CLassifier\n",
    "clf = BernoulliNB()\n",
    "#Fit the classifier on our data\n",
    "clf.fit(X=vectors_train_subjects,y=labels_train_subjects)\n",
    "# Get predictions on training and test datasets separately\n",
    "pred_test_subjects_nb = clf.predict(vectors_test_subjects)\n",
    "pred_train_subjects_nb= clf.predict(vectors_train_subjects)"
   ]
  },
  {
   "cell_type": "markdown",
   "metadata": {},
   "source": [
    "<h3>Model Evaluation</h3>"
   ]
  },
  {
   "cell_type": "code",
   "execution_count": 69,
   "metadata": {},
   "outputs": [
    {
     "name": "stdout",
     "output_type": "stream",
     "text": [
      "Micro F1 Score (Subjects)-Training Data:  1.0\n",
      "Macro F1 Score (Subjects)-Training Data:  1.0\n",
      "Accuracy (Subjects)-Training Data:  1.0\n",
      "Micro F1 Score (Subjects)-Test Data:  0.8125\n",
      "Macro F1 Score (Subjects)-Test Data:  0.8117647058823529\n",
      "Accuracy (Subjects)-Test Data:  0.8125\n"
     ]
    }
   ],
   "source": [
    "# Calculate F1 Score and Accuracy on Training and Test Datasets Separaltely\n",
    "print('Micro F1 Score (Subjects)-Training Data: ',f1_score(y_true=labels_train_subjects, y_pred = pred_train_subjects_nb, average='micro'))\n",
    "print('Macro F1 Score (Subjects)-Training Data: ',f1_score(y_true=labels_train_subjects, y_pred = pred_train_subjects_nb, average='macro'))\n",
    "print('Accuracy (Subjects)-Training Data: ',accuracy_score(y_true=labels_train_subjects, y_pred = pred_train_subjects_nb))\n",
    "\n",
    "print('Micro F1 Score (Subjects)-Test Data: ',f1_score(y_true=labels_test_subjects, y_pred = pred_test_subjects_nb, average='micro'))\n",
    "print('Macro F1 Score (Subjects)-Test Data: ',f1_score(y_true=labels_test_subjects, y_pred = pred_test_subjects_nb, average='macro'))\n",
    "print('Accuracy (Subjects)-Test Data: ',accuracy_score(y_true=labels_test_subjects, y_pred = pred_test_subjects_nb))"
   ]
  },
  {
   "cell_type": "markdown",
   "metadata": {},
   "source": [
    "<h3> Confusion Matrix</h3>"
   ]
  },
  {
   "cell_type": "code",
   "execution_count": 84,
   "metadata": {},
   "outputs": [
    {
     "data": {
      "image/png": "[encoded data removed]",
      "text/plain": [
       "<matplotlib.figure.Figure at 0x1d6d8b03b70>"
      ]
     },
     "metadata": {},
     "output_type": "display_data"
    }
   ],
   "source": [
    "nb_conf_matrix_subjects=confusion_matrix(labels_test_subjects,pred_test_subjects_nb)\n",
    "plot_confusion_matrix(cm           = nb_conf_matrix_subjects, \n",
    "                      normalize    = False,\n",
    "                      target_names = set(labels_test_subjects),\n",
    "                      title        = \"Naive Bayes Confusion Matrix\")"
   ]
  },
  {
   "cell_type": "markdown",
   "metadata": {},
   "source": [
    "<h2>k Nearest Neighbors (k=3)</h2>"
   ]
  },
  {
   "cell_type": "code",
   "execution_count": 70,
   "metadata": {},
   "outputs": [
    {
     "name": "stderr",
     "output_type": "stream",
     "text": [
      "C:\\Users\\dell\\Anaconda3\\lib\\site-packages\\ipykernel_launcher.py:4: DataConversionWarning: A column-vector y was passed when a 1d array was expected. Please change the shape of y to (n_samples, ), for example using ravel().\n",
      "  after removing the cwd from sys.path.\n"
     ]
    }
   ],
   "source": [
    "#Get an instance of the kNN Classifier with k=3\n",
    "clf = KNeighborsClassifier(n_neighbors=3)\n",
    "#Fit the classifier on our data\n",
    "clf.fit(X=vectors_train_subjects,y=labels_train_subjects)\n",
    "# Get predictions on training and test datasets separately\n",
    "pred_test_subjects_knn = clf.predict(vectors_test_subjects)\n",
    "pred_train_subjects_knn= clf.predict(vectors_train_subjects)"
   ]
  },
  {
   "cell_type": "markdown",
   "metadata": {},
   "source": [
    "<h3>Model Evaluation</h3>"
   ]
  },
  {
   "cell_type": "code",
   "execution_count": 72,
   "metadata": {},
   "outputs": [
    {
     "name": "stdout",
     "output_type": "stream",
     "text": [
      "Micro F1 Score (Subjects)-Training Data:  0.5833333333333334\n",
      "Macro F1 Score (Subjects)-Training Data:  0.53125\n",
      "Accuracy (Subjects)-Training Data:  0.5833333333333334\n",
      "Micro F1 Score (Subjects)-Test Data:  0.5\n",
      "Macro F1 Score (Subjects)-Test Data:  0.41818181818181815\n",
      "Accuracy (Subjects)-Test Data:  0.5\n"
     ]
    }
   ],
   "source": [
    "# Calculate F1 Score and Accuracy on Training and Test Datasets Separately\n",
    "print('Micro F1 Score (Subjects)-Training Data: ',f1_score(y_true=labels_train_subjects, y_pred = pred_train_subjects_knn, average='micro'))\n",
    "print('Macro F1 Score (Subjects)-Training Data: ',f1_score(y_true=labels_train_subjects, y_pred = pred_train_subjects_knn, average='macro'))\n",
    "print('Accuracy (Subjects)-Training Data: ',accuracy_score(y_true=labels_train_subjects, y_pred = pred_train_subjects_knn))\n",
    "\n",
    "print('Micro F1 Score (Subjects)-Test Data: ',f1_score(y_true=labels_test_subjects, y_pred = pred_test_subjects_knn, average='micro'))\n",
    "print('Macro F1 Score (Subjects)-Test Data: ',f1_score(y_true=labels_test_subjects, y_pred = pred_test_subjects_knn, average='macro'))\n",
    "print('Accuracy (Subjects)-Test Data: ',accuracy_score(y_true=labels_test_subjects, y_pred = pred_test_subjects_knn))"
   ]
  },
  {
   "cell_type": "markdown",
   "metadata": {},
   "source": [
    "<h3> Confusion Matrix</h3>"
   ]
  },
  {
   "cell_type": "code",
   "execution_count": 85,
   "metadata": {
    "scrolled": true
   },
   "outputs": [
    {
     "data": {
      "image/png": "[encoded data removed]",
      "text/plain": [
       "<matplotlib.figure.Figure at 0x1d6d8ac46a0>"
      ]
     },
     "metadata": {},
     "output_type": "display_data"
    }
   ],
   "source": [
    "knn_conf_matrix_subjects=confusion_matrix(labels_test_subjects,pred_test_subjects_knn)\n",
    "plot_confusion_matrix(cm           = knn_conf_matrix_subjects, \n",
    "                      normalize    = False,\n",
    "                      target_names = set(labels_test_subjects),\n",
    "                      title        = \"kNN (k=3) Confusion Matrix\")"
   ]
  },
  {
   "cell_type": "markdown",
   "metadata": {},
   "source": [
    "<h2>k Nearest Neighbors (k=5)</h2>"
   ]
  },
  {
   "cell_type": "code",
   "execution_count": 70,
   "metadata": {},
   "outputs": [
    {
     "name": "stderr",
     "output_type": "stream",
     "text": [
      "C:\\Users\\dell\\Anaconda3\\lib\\site-packages\\ipykernel_launcher.py:4: DataConversionWarning: A column-vector y was passed when a 1d array was expected. Please change the shape of y to (n_samples, ), for example using ravel().\n",
      "  after removing the cwd from sys.path.\n"
     ]
    }
   ],
   "source": [
    "#Get an instance of the kNN Classifier with k=5\n",
    "clf = KNeighborsClassifier(n_neighbors=5)\n",
    "#Fit the classifier on our data\n",
    "clf.fit(X=vectors_train_subjects,y=labels_train_subjects)\n",
    "# Get predictions on training and test datasets separately\n",
    "pred_test_subjects_knn = clf.predict(vectors_test_subjects)\n",
    "pred_train_subjects_knn= clf.predict(vectors_train_subjects)"
   ]
  },
  {
   "cell_type": "markdown",
   "metadata": {},
   "source": [
    "<h3>Model Evaluation</h3>"
   ]
  },
  {
   "cell_type": "code",
   "execution_count": 72,
   "metadata": {},
   "outputs": [
    {
     "name": "stdout",
     "output_type": "stream",
     "text": [
      "Micro F1 Score (Subjects)-Training Data:  0.5833333333333334\n",
      "Macro F1 Score (Subjects)-Training Data:  0.53125\n",
      "Accuracy (Subjects)-Training Data:  0.5833333333333334\n",
      "Micro F1 Score (Subjects)-Test Data:  0.5\n",
      "Macro F1 Score (Subjects)-Test Data:  0.41818181818181815\n",
      "Accuracy (Subjects)-Test Data:  0.5\n"
     ]
    }
   ],
   "source": [
    "# Calculate F1 Score and Accuracy on Training and Test Datasets Separately\n",
    "print('Micro F1 Score (Subjects)-Training Data: ',f1_score(y_true=labels_train_subjects, y_pred = pred_train_subjects_knn, average='micro'))\n",
    "print('Macro F1 Score (Subjects)-Training Data: ',f1_score(y_true=labels_train_subjects, y_pred = pred_train_subjects_knn, average='macro'))\n",
    "print('Accuracy (Subjects)-Training Data: ',accuracy_score(y_true=labels_train_subjects, y_pred = pred_train_subjects_knn))\n",
    "\n",
    "print('Micro F1 Score (Subjects)-Test Data: ',f1_score(y_true=labels_test_subjects, y_pred = pred_test_subjects_knn, average='micro'))\n",
    "print('Macro F1 Score (Subjects)-Test Data: ',f1_score(y_true=labels_test_subjects, y_pred = pred_test_subjects_knn, average='macro'))\n",
    "print('Accuracy (Subjects)-Test Data: ',accuracy_score(y_true=labels_test_subjects, y_pred = pred_test_subjects_knn))"
   ]
  },
  {
   "cell_type": "markdown",
   "metadata": {},
   "source": [
    "<h3> Confusion Matrix</h3>"
   ]
  },
  {
   "cell_type": "code",
   "execution_count": 85,
   "metadata": {
    "scrolled": true
   },
   "outputs": [
    {
     "data": {
      "image/png": "[encoded data removed]",
      "text/plain": [
       "<matplotlib.figure.Figure at 0x1d6d8ac46a0>"
      ]
     },
     "metadata": {},
     "output_type": "display_data"
    }
   ],
   "source": [
    "knn_conf_matrix_subjects=confusion_matrix(labels_test_subjects,pred_test_subjects_knn)\n",
    "plot_confusion_matrix(cm           = knn_conf_matrix_subjects, \n",
    "                      normalize    = False,\n",
    "                      target_names = set(labels_test_subjects),\n",
    "                      title        = \"kNN (k=5) Confusion Matrix\")"
   ]
  },
  {
   "cell_type": "markdown",
   "metadata": {},
   "source": [
    "<h2>k Nearest Neighbors (k=7)</h2>"
   ]
  },
  {
   "cell_type": "code",
   "execution_count": 70,
   "metadata": {},
   "outputs": [
    {
     "name": "stderr",
     "output_type": "stream",
     "text": [
      "C:\\Users\\dell\\Anaconda3\\lib\\site-packages\\ipykernel_launcher.py:4: DataConversionWarning: A column-vector y was passed when a 1d array was expected. Please change the shape of y to (n_samples, ), for example using ravel().\n",
      "  after removing the cwd from sys.path.\n"
     ]
    }
   ],
   "source": [
    "#Get an instance of the kNN Classifier with k=7\n",
    "clf = KNeighborsClassifier(n_neighbors=7)\n",
    "#Fit the classifier on our data\n",
    "clf.fit(X=vectors_train_subjects,y=labels_train_subjects)\n",
    "# Get predictions on training and test datasets separately\n",
    "pred_test_subjects_knn = clf.predict(vectors_test_subjects)\n",
    "pred_train_subjects_knn= clf.predict(vectors_train_subjects)"
   ]
  },
  {
   "cell_type": "markdown",
   "metadata": {},
   "source": [
    "<h3>Model Evaluation</h3>"
   ]
  },
  {
   "cell_type": "code",
   "execution_count": 72,
   "metadata": {},
   "outputs": [
    {
     "name": "stdout",
     "output_type": "stream",
     "text": [
      "Micro F1 Score (Subjects)-Training Data:  0.5833333333333334\n",
      "Macro F1 Score (Subjects)-Training Data:  0.53125\n",
      "Accuracy (Subjects)-Training Data:  0.5833333333333334\n",
      "Micro F1 Score (Subjects)-Test Data:  0.5\n",
      "Macro F1 Score (Subjects)-Test Data:  0.41818181818181815\n",
      "Accuracy (Subjects)-Test Data:  0.5\n"
     ]
    }
   ],
   "source": [
    "# Calculate F1 Score and Accuracy on Training and Test Datasets Separately\n",
    "print('Micro F1 Score (Subjects)-Training Data: ',f1_score(y_true=labels_train_subjects, y_pred = pred_train_subjects_knn, average='micro'))\n",
    "print('Macro F1 Score (Subjects)-Training Data: ',f1_score(y_true=labels_train_subjects, y_pred = pred_train_subjects_knn, average='macro'))\n",
    "print('Accuracy (Subjects)-Training Data: ',accuracy_score(y_true=labels_train_subjects, y_pred = pred_train_subjects_knn))\n",
    "\n",
    "print('Micro F1 Score (Subjects)-Test Data: ',f1_score(y_true=labels_test_subjects, y_pred = pred_test_subjects_knn, average='micro'))\n",
    "print('Macro F1 Score (Subjects)-Test Data: ',f1_score(y_true=labels_test_subjects, y_pred = pred_test_subjects_knn, average='macro'))\n",
    "print('Accuracy (Subjects)-Test Data: ',accuracy_score(y_true=labels_test_subjects, y_pred = pred_test_subjects_knn))"
   ]
  },
  {
   "cell_type": "markdown",
   "metadata": {},
   "source": [
    "<h3> Confusion Matrix</h3>"
   ]
  },
  {
   "cell_type": "code",
   "execution_count": 85,
   "metadata": {
    "scrolled": true
   },
   "outputs": [
    {
     "data": {
      "image/png": "[encoded data removed]",
      "text/plain": [
       "<matplotlib.figure.Figure at 0x1d6d8ac46a0>"
      ]
     },
     "metadata": {},
     "output_type": "display_data"
    }
   ],
   "source": [
    "knn_conf_matrix_subjects=confusion_matrix(labels_test_subjects,pred_test_subjects_knn)\n",
    "plot_confusion_matrix(cm           = knn_conf_matrix_subjects, \n",
    "                      normalize    = False,\n",
    "                      target_names = set(labels_test_subjects),\n",
    "                      title        = \"kNN (k=7) Confusion Matrix\")"
   ]
  },
  {
   "cell_type": "markdown",
   "metadata": {},
   "source": [
    "<h2>Rocchhio</h2>"
   ]
  },
  {
   "cell_type": "code",
   "execution_count": 73,
   "metadata": {},
   "outputs": [
    {
     "name": "stderr",
     "output_type": "stream",
     "text": [
      "C:\\Users\\dell\\Anaconda3\\lib\\site-packages\\sklearn\\utils\\validation.py:578: DataConversionWarning: A column-vector y was passed when a 1d array was expected. Please change the shape of y to (n_samples, ), for example using ravel().\n",
      "  y = column_or_1d(y, warn=True)\n"
     ]
    }
   ],
   "source": [
    "#Get an instance of the Rocchhio Classifier\n",
    "clf = NearestCentroid()\n",
    "#Fit the classifier on our data\n",
    "clf.fit(X=vectors_train_subjects,y=labels_train_subjects)\n",
    "# Get predictions on training and test datasets separately\n",
    "pred_test_subjects_roc = clf.predict(vectors_test_subjects)\n",
    "pred_train_subjects_roc = clf.predict(vectors_train_subjects)"
   ]
  },
  {
   "cell_type": "markdown",
   "metadata": {},
   "source": [
    "<h3>Model Evaluation</h3>"
   ]
  },
  {
   "cell_type": "code",
   "execution_count": 75,
   "metadata": {},
   "outputs": [
    {
     "name": "stdout",
     "output_type": "stream",
     "text": [
      "Micro F1 Score (Subjects)-Training Data:  1.0\n",
      "Macro F1 Score (Subjects)-Training Data:  1.0\n",
      "Accuracy (Subjects)-Training Data:  1.0\n",
      "Micro F1 Score (Subjects)-Test Data:  0.875\n",
      "Macro F1 Score (Subjects)-Test Data:  0.8750000000000001\n",
      "Accuracy (Subjects)-Test Data:  0.875\n"
     ]
    }
   ],
   "source": [
    "# Calculate F1 Score and Accuracy on Training and Test Datasets Separately\n",
    "print('Micro F1 Score (Subjects)-Training Data: ',f1_score(y_true=labels_train_subjects, y_pred = pred_train_subjects_roc, average='micro'))\n",
    "print('Macro F1 Score (Subjects)-Training Data: ',f1_score(y_true=labels_train_subjects, y_pred = pred_train_subjects_roc, average='macro'))\n",
    "print('Accuracy (Subjects)-Training Data: ',accuracy_score(y_true=labels_train_subjects, y_pred = pred_train_subjects_roc))\n",
    "\n",
    "print('Micro F1 Score (Subjects)-Test Data: ',f1_score(y_true=labels_test_subjects, y_pred = pred_test_subjects_roc, average='micro'))\n",
    "print('Macro F1 Score (Subjects)-Test Data: ',f1_score(y_true=labels_test_subjects, y_pred = pred_test_subjects_roc, average='macro'))\n",
    "print('Accuracy (Subjects)-Test Data: ',accuracy_score(y_true=labels_test_subjects, y_pred = pred_test_subjects_roc))"
   ]
  },
  {
   "cell_type": "markdown",
   "metadata": {},
   "source": [
    "<h3> Confusion Matrix</h3>"
   ]
  },
  {
   "cell_type": "code",
   "execution_count": 86,
   "metadata": {},
   "outputs": [
    {
     "data": {
      "image/png": "[encoded data removed]",
      "text/plain": [
       "<matplotlib.figure.Figure at 0x1d6d5fbf4a8>"
      ]
     },
     "metadata": {},
     "output_type": "display_data"
    }
   ],
   "source": [
    "roc_conf_matrix_subjects=confusion_matrix(labels_test_subjects,pred_test_subjects_roc)\n",
    "plot_confusion_matrix(cm           = roc_conf_matrix_subjects, \n",
    "                      normalize    = False,\n",
    "                      target_names = set(labels_test_subjects),\n",
    "                      title        = \"Rocchhio Confusion Matrix\")"
   ]
  }
 ],
 "metadata": {
  "kernelspec": {
   "display_name": "Python 3",
   "language": "python",
   "name": "python3"
  },
  "language_info": {
   "codemirror_mode": {
    "name": "ipython",
    "version": 3
   },
   "file_extension": ".py",
   "mimetype": "text/x-python",
   "name": "python",
   "nbconvert_exporter": "python",
   "pygments_lexer": "ipython3",
   "version": "3.6.4"
  }
 },
 "nbformat": 4,
 "nbformat_minor": 2
}
